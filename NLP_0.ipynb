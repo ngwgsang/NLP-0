{
  "nbformat": 4,
  "nbformat_minor": 0,
  "metadata": {
    "colab": {
      "name": "NLP-0.ipynb",
      "provenance": [],
      "collapsed_sections": [
        "pmi-MyIrn5sb",
        "dBQ1FfACbxe3"
      ],
      "authorship_tag": "ABX9TyMLniDDArIJZGoaCKEEh2p6",
      "include_colab_link": true
    },
    "kernelspec": {
      "name": "python3",
      "display_name": "Python 3"
    },
    "language_info": {
      "name": "python"
    }
  },
  "cells": [
    {
      "cell_type": "markdown",
      "metadata": {
        "id": "view-in-github",
        "colab_type": "text"
      },
      "source": [
        "<a href=\"https://colab.research.google.com/github/sangcamap/NLP-0/blob/main/NLP_0.ipynb\" target=\"_parent\"><img src=\"https://colab.research.google.com/assets/colab-badge.svg\" alt=\"Open In Colab\"/></a>"
      ]
    },
    {
      "cell_type": "markdown",
      "source": [
        "# nltk"
      ],
      "metadata": {
        "id": "pmi-MyIrn5sb"
      }
    },
    {
      "cell_type": "code",
      "execution_count": 7,
      "metadata": {
        "id": "6NtoCWreEtWF",
        "colab": {
          "base_uri": "https://localhost:8080/"
        },
        "outputId": "40f380ff-4ea0-42d4-f909-591d69855df7"
      },
      "outputs": [
        {
          "output_type": "stream",
          "name": "stdout",
          "text": [
            "[nltk_data] Downloading collection 'book'\n",
            "[nltk_data]    | \n",
            "[nltk_data]    | Downloading package abc to /root/nltk_data...\n",
            "[nltk_data]    |   Package abc is already up-to-date!\n",
            "[nltk_data]    | Downloading package brown to /root/nltk_data...\n",
            "[nltk_data]    |   Package brown is already up-to-date!\n",
            "[nltk_data]    | Downloading package chat80 to /root/nltk_data...\n",
            "[nltk_data]    |   Package chat80 is already up-to-date!\n",
            "[nltk_data]    | Downloading package cmudict to /root/nltk_data...\n",
            "[nltk_data]    |   Package cmudict is already up-to-date!\n",
            "[nltk_data]    | Downloading package conll2000 to /root/nltk_data...\n",
            "[nltk_data]    |   Package conll2000 is already up-to-date!\n",
            "[nltk_data]    | Downloading package conll2002 to /root/nltk_data...\n",
            "[nltk_data]    |   Package conll2002 is already up-to-date!\n",
            "[nltk_data]    | Downloading package dependency_treebank to\n",
            "[nltk_data]    |     /root/nltk_data...\n",
            "[nltk_data]    |   Package dependency_treebank is already up-to-date!\n",
            "[nltk_data]    | Downloading package genesis to /root/nltk_data...\n",
            "[nltk_data]    |   Package genesis is already up-to-date!\n",
            "[nltk_data]    | Downloading package gutenberg to /root/nltk_data...\n",
            "[nltk_data]    |   Package gutenberg is already up-to-date!\n",
            "[nltk_data]    | Downloading package ieer to /root/nltk_data...\n",
            "[nltk_data]    |   Package ieer is already up-to-date!\n",
            "[nltk_data]    | Downloading package inaugural to /root/nltk_data...\n",
            "[nltk_data]    |   Package inaugural is already up-to-date!\n",
            "[nltk_data]    | Downloading package movie_reviews to\n",
            "[nltk_data]    |     /root/nltk_data...\n",
            "[nltk_data]    |   Package movie_reviews is already up-to-date!\n",
            "[nltk_data]    | Downloading package nps_chat to /root/nltk_data...\n",
            "[nltk_data]    |   Package nps_chat is already up-to-date!\n",
            "[nltk_data]    | Downloading package names to /root/nltk_data...\n",
            "[nltk_data]    |   Package names is already up-to-date!\n",
            "[nltk_data]    | Downloading package ppattach to /root/nltk_data...\n",
            "[nltk_data]    |   Package ppattach is already up-to-date!\n",
            "[nltk_data]    | Downloading package reuters to /root/nltk_data...\n",
            "[nltk_data]    |   Package reuters is already up-to-date!\n",
            "[nltk_data]    | Downloading package senseval to /root/nltk_data...\n",
            "[nltk_data]    |   Package senseval is already up-to-date!\n",
            "[nltk_data]    | Downloading package state_union to /root/nltk_data...\n",
            "[nltk_data]    |   Package state_union is already up-to-date!\n",
            "[nltk_data]    | Downloading package stopwords to /root/nltk_data...\n",
            "[nltk_data]    |   Package stopwords is already up-to-date!\n",
            "[nltk_data]    | Downloading package swadesh to /root/nltk_data...\n",
            "[nltk_data]    |   Package swadesh is already up-to-date!\n",
            "[nltk_data]    | Downloading package timit to /root/nltk_data...\n",
            "[nltk_data]    |   Package timit is already up-to-date!\n",
            "[nltk_data]    | Downloading package treebank to /root/nltk_data...\n",
            "[nltk_data]    |   Package treebank is already up-to-date!\n",
            "[nltk_data]    | Downloading package toolbox to /root/nltk_data...\n",
            "[nltk_data]    |   Package toolbox is already up-to-date!\n",
            "[nltk_data]    | Downloading package udhr to /root/nltk_data...\n",
            "[nltk_data]    |   Package udhr is already up-to-date!\n",
            "[nltk_data]    | Downloading package udhr2 to /root/nltk_data...\n",
            "[nltk_data]    |   Package udhr2 is already up-to-date!\n",
            "[nltk_data]    | Downloading package unicode_samples to\n",
            "[nltk_data]    |     /root/nltk_data...\n",
            "[nltk_data]    |   Package unicode_samples is already up-to-date!\n",
            "[nltk_data]    | Downloading package webtext to /root/nltk_data...\n",
            "[nltk_data]    |   Package webtext is already up-to-date!\n",
            "[nltk_data]    | Downloading package wordnet to /root/nltk_data...\n",
            "[nltk_data]    |   Package wordnet is already up-to-date!\n",
            "[nltk_data]    | Downloading package wordnet_ic to /root/nltk_data...\n",
            "[nltk_data]    |   Package wordnet_ic is already up-to-date!\n",
            "[nltk_data]    | Downloading package words to /root/nltk_data...\n",
            "[nltk_data]    |   Package words is already up-to-date!\n",
            "[nltk_data]    | Downloading package maxent_treebank_pos_tagger to\n",
            "[nltk_data]    |     /root/nltk_data...\n",
            "[nltk_data]    |   Package maxent_treebank_pos_tagger is already up-\n",
            "[nltk_data]    |       to-date!\n",
            "[nltk_data]    | Downloading package maxent_ne_chunker to\n",
            "[nltk_data]    |     /root/nltk_data...\n",
            "[nltk_data]    |   Package maxent_ne_chunker is already up-to-date!\n",
            "[nltk_data]    | Downloading package universal_tagset to\n",
            "[nltk_data]    |     /root/nltk_data...\n",
            "[nltk_data]    |   Package universal_tagset is already up-to-date!\n",
            "[nltk_data]    | Downloading package punkt to /root/nltk_data...\n",
            "[nltk_data]    |   Package punkt is already up-to-date!\n",
            "[nltk_data]    | Downloading package book_grammars to\n",
            "[nltk_data]    |     /root/nltk_data...\n",
            "[nltk_data]    |   Package book_grammars is already up-to-date!\n",
            "[nltk_data]    | Downloading package city_database to\n",
            "[nltk_data]    |     /root/nltk_data...\n",
            "[nltk_data]    |   Package city_database is already up-to-date!\n",
            "[nltk_data]    | Downloading package tagsets to /root/nltk_data...\n",
            "[nltk_data]    |   Package tagsets is already up-to-date!\n",
            "[nltk_data]    | Downloading package panlex_swadesh to\n",
            "[nltk_data]    |     /root/nltk_data...\n",
            "[nltk_data]    |   Package panlex_swadesh is already up-to-date!\n",
            "[nltk_data]    | Downloading package averaged_perceptron_tagger to\n",
            "[nltk_data]    |     /root/nltk_data...\n",
            "[nltk_data]    |   Package averaged_perceptron_tagger is already up-\n",
            "[nltk_data]    |       to-date!\n",
            "[nltk_data]    | \n",
            "[nltk_data]  Done downloading collection book\n"
          ]
        },
        {
          "output_type": "execute_result",
          "data": {
            "text/plain": [
              "True"
            ]
          },
          "metadata": {},
          "execution_count": 7
        }
      ],
      "source": [
        "import nltk\n",
        "nltk.download('book')"
      ]
    },
    {
      "cell_type": "code",
      "source": [
        "from nltk.book import * "
      ],
      "metadata": {
        "id": "SDrBqFxdFl9B",
        "colab": {
          "base_uri": "https://localhost:8080/"
        },
        "outputId": "efbd8c02-cf17-4d45-ef81-44356730b6f7"
      },
      "execution_count": 8,
      "outputs": [
        {
          "output_type": "stream",
          "name": "stdout",
          "text": [
            "*** Introductory Examples for the NLTK Book ***\n",
            "Loading text1, ..., text9 and sent1, ..., sent9\n",
            "Type the name of the text or sentence to view it.\n",
            "Type: 'texts()' or 'sents()' to list the materials.\n",
            "text1: Moby Dick by Herman Melville 1851\n",
            "text2: Sense and Sensibility by Jane Austen 1811\n",
            "text3: The Book of Genesis\n",
            "text4: Inaugural Address Corpus\n",
            "text5: Chat Corpus\n",
            "text6: Monty Python and the Holy Grail\n",
            "text7: Wall Street Journal\n",
            "text8: Personals Corpus\n",
            "text9: The Man Who Was Thursday by G . K . Chesterton 1908\n"
          ]
        }
      ]
    },
    {
      "cell_type": "code",
      "source": [
        "text1"
      ],
      "metadata": {
        "colab": {
          "base_uri": "https://localhost:8080/"
        },
        "id": "faHRR2VDF6Nj",
        "outputId": "e6ca9c34-92ae-4ff9-ff9b-95752be295df"
      },
      "execution_count": 9,
      "outputs": [
        {
          "output_type": "execute_result",
          "data": {
            "text/plain": [
              "<Text: Moby Dick by Herman Melville 1851>"
            ]
          },
          "metadata": {},
          "execution_count": 9
        }
      ]
    },
    {
      "cell_type": "code",
      "source": [
        "# Tìm từ by\n",
        "text1.concordance('by')"
      ],
      "metadata": {
        "colab": {
          "base_uri": "https://localhost:8080/"
        },
        "id": "1EHdRJcvGIKC",
        "outputId": "62769d05-973f-4c79-9336-8ddb920f92fc"
      },
      "execution_count": 10,
      "outputs": [
        {
          "output_type": "stream",
          "name": "stdout",
          "text": [
            "Displaying 25 of 1204 matches:\n",
            "                                      by Herman Melville 1851 ] ETYMOLOGY . ( \n",
            "                                      by a Late Consumptive Usher to a Grammar\n",
            " to school others , and to teach them by what name a whale - fish is to be cal\n",
            "E , ERROMANGOAN . EXTRACTS ( Supplied by a Sub - Sub - Librarian ). It will be\n",
            "t , fancied , and sung of Leviathan , by many nations and generations , includ\n",
            "ness -- Give it up , Sub - Subs ! For by how much the more pains ye take to pl\n",
            "e pains ye take to please the world , by so much the more shall ye for ever go\n",
            "L NARRATIVE TAKEN DOWN FROM HIS MOUTH BY KING ALFRED , A . D . 890 . \" And whe\n",
            "take me if is not Leviathan described by the noble prophet Moses in the life o\n",
            " ' S BATTLE OF THE SUMMER ISLANDS . \" By art is created that great Leviathan ,\n",
            "r of any of that sort that was killed by any man , such is his fierceness and \n",
            " those southern seas , as I may say , by a hundred to one ; than we have to th\n",
            " whale , in order to avoid being seen by us .\" -- COOK ' S VOYAGES . \" The lar\n",
            " 1772 . \" The Spermacetti Whale found by the Nantuckois , is an active , fierc\n",
            "e ocean serves on high , Up - spouted by a whale in air , To express unwieldy \n",
            "immense , like floating islands , Led by mysterious instincts through that was\n",
            "gion , though on every side Assaulted by voracious enemies , Whales , sharks ,\n",
            "ateway in the form of a Gothic Arch , by setting up a whale ' s jaw bones .\" -\n",
            " her first love , who had been killed by a whale in the Pacific ocean , no les\n",
            " ?\" I answered , \" we have been stove by a whale .\" --\" NARRATIVE OF THE SHIPW\n",
            "CH WAS ATTACKED AND FINALLY DESTROYED BY A LARGE SPERM WHALE IN THE PACIFIC OC\n",
            "E SPERM WHALE IN THE PACIFIC OCEAN .\" BY OWEN CHACE OF NANTUCKET , FIRST MATE \n",
            "cket .\" --\" NARRATIVE OF THE GLOBE ,\" BY LAY AND HUSSEY SURVIVORS . A . D . 18\n",
            "S . A . D . 1828 . Being once pursued by a whale which he had wounded , he par\n",
            "elf and comrades only being preserved by leaping into the water when they saw \n"
          ]
        }
      ]
    },
    {
      "cell_type": "code",
      "source": [
        "text1.count('by')"
      ],
      "metadata": {
        "colab": {
          "base_uri": "https://localhost:8080/"
        },
        "id": "LztsNTMGIf43",
        "outputId": "27105f9a-ee2e-4ec7-d12f-d06ac7fff4bb"
      },
      "execution_count": 11,
      "outputs": [
        {
          "output_type": "execute_result",
          "data": {
            "text/plain": [
              "1137"
            ]
          },
          "metadata": {},
          "execution_count": 11
        }
      ]
    },
    {
      "cell_type": "code",
      "source": [
        "# Tìm từ có ngữ cảnh tương tự by\n",
        "\n",
        "text1.similar('by')"
      ],
      "metadata": {
        "colab": {
          "base_uri": "https://localhost:8080/"
        },
        "id": "dmgMYOFMGXTR",
        "outputId": "6fb5e95f-2313-4650-d8a3-c25ecc72199b"
      },
      "execution_count": 12,
      "outputs": [
        {
          "output_type": "stream",
          "name": "stdout",
          "text": [
            "in to for on with at of as from when and upon that all but into is\n",
            "through was like\n"
          ]
        }
      ]
    },
    {
      "cell_type": "code",
      "source": [
        "len(text1) # Số từ"
      ],
      "metadata": {
        "colab": {
          "base_uri": "https://localhost:8080/"
        },
        "id": "IeICLdtJGtWi",
        "outputId": "2b6df09c-f7f4-439c-aa4c-2e2e53d62f62"
      },
      "execution_count": 13,
      "outputs": [
        {
          "output_type": "execute_result",
          "data": {
            "text/plain": [
              "260819"
            ]
          },
          "metadata": {},
          "execution_count": 13
        }
      ]
    },
    {
      "cell_type": "code",
      "source": [
        "len(set(text1)) # Số từ, không tính lặp lại"
      ],
      "metadata": {
        "colab": {
          "base_uri": "https://localhost:8080/"
        },
        "id": "4gWnX5RJG1Vj",
        "outputId": "805566e4-d659-4b2d-96c4-be4e2a7e6c9e"
      },
      "execution_count": 14,
      "outputs": [
        {
          "output_type": "execute_result",
          "data": {
            "text/plain": [
              "19317"
            ]
          },
          "metadata": {},
          "execution_count": 14
        }
      ]
    },
    {
      "cell_type": "code",
      "source": [
        "sorted(set(text1))"
      ],
      "metadata": {
        "colab": {
          "base_uri": "https://localhost:8080/"
        },
        "id": "PXRCNBZCHCY9",
        "outputId": "281fc5cc-ebae-44d6-9964-2c9cb90b90cb"
      },
      "execution_count": 15,
      "outputs": [
        {
          "output_type": "execute_result",
          "data": {
            "text/plain": [
              "['!',\n",
              " '!\"',\n",
              " '!\"--',\n",
              " \"!'\",\n",
              " '!\\'\"',\n",
              " '!)',\n",
              " '!)\"',\n",
              " '!*',\n",
              " '!--',\n",
              " '!--\"',\n",
              " \"!--'\",\n",
              " '\"',\n",
              " '\"\\'',\n",
              " '\"--',\n",
              " '\"...',\n",
              " '\";',\n",
              " '$',\n",
              " '&',\n",
              " \"'\",\n",
              " \"',\",\n",
              " \"',--\",\n",
              " \"'-\",\n",
              " \"'--\",\n",
              " \"';\",\n",
              " '(',\n",
              " ')',\n",
              " '),',\n",
              " ')--',\n",
              " ').',\n",
              " ').--',\n",
              " '):',\n",
              " ');',\n",
              " ');--',\n",
              " '*',\n",
              " ',',\n",
              " ',\"',\n",
              " ',\"--',\n",
              " \",'\",\n",
              " \",'--\",\n",
              " ',)',\n",
              " ',*',\n",
              " ',--',\n",
              " ',--\"',\n",
              " \",--'\",\n",
              " '-',\n",
              " '--',\n",
              " '--\"',\n",
              " \"--'\",\n",
              " '--\\'\"',\n",
              " '--(',\n",
              " '---\"',\n",
              " '---,',\n",
              " '.',\n",
              " '.\"',\n",
              " '.\"*',\n",
              " '.\"--',\n",
              " \".'\",\n",
              " '.\\'\"',\n",
              " '.)',\n",
              " '.*',\n",
              " '.*--',\n",
              " '.,',\n",
              " '.--',\n",
              " '.--\"',\n",
              " '...',\n",
              " '....',\n",
              " '.]',\n",
              " '000',\n",
              " '1',\n",
              " '10',\n",
              " '100',\n",
              " '101',\n",
              " '102',\n",
              " '103',\n",
              " '104',\n",
              " '105',\n",
              " '106',\n",
              " '107',\n",
              " '108',\n",
              " '109',\n",
              " '11',\n",
              " '110',\n",
              " '111',\n",
              " '112',\n",
              " '113',\n",
              " '114',\n",
              " '115',\n",
              " '116',\n",
              " '117',\n",
              " '118',\n",
              " '119',\n",
              " '12',\n",
              " '120',\n",
              " '121',\n",
              " '122',\n",
              " '123',\n",
              " '124',\n",
              " '125',\n",
              " '126',\n",
              " '127',\n",
              " '128',\n",
              " '129',\n",
              " '13',\n",
              " '130',\n",
              " '131',\n",
              " '132',\n",
              " '133',\n",
              " '134',\n",
              " '135',\n",
              " '14',\n",
              " '144',\n",
              " '1492',\n",
              " '15',\n",
              " '150',\n",
              " '15th',\n",
              " '16',\n",
              " '1652',\n",
              " '1668',\n",
              " '1671',\n",
              " '1690',\n",
              " '1695',\n",
              " '16th',\n",
              " '17',\n",
              " '1726',\n",
              " '1729',\n",
              " '1750',\n",
              " '1772',\n",
              " '1775',\n",
              " '1776',\n",
              " '1778',\n",
              " '1779',\n",
              " '1788',\n",
              " '1791',\n",
              " '1793',\n",
              " '18',\n",
              " '180',\n",
              " '1807',\n",
              " '1819',\n",
              " '1820',\n",
              " '1821',\n",
              " '1825',\n",
              " '1828',\n",
              " '1833',\n",
              " '1836',\n",
              " '1839',\n",
              " '1840',\n",
              " '1842',\n",
              " '1846',\n",
              " '1850',\n",
              " '1851',\n",
              " '19',\n",
              " '1ST',\n",
              " '1st',\n",
              " '2',\n",
              " '20',\n",
              " '2000',\n",
              " '200th',\n",
              " '21',\n",
              " '21st',\n",
              " '22',\n",
              " '23',\n",
              " '24',\n",
              " '25',\n",
              " '26',\n",
              " '27',\n",
              " '275th',\n",
              " '28',\n",
              " '29',\n",
              " '2ND',\n",
              " '3',\n",
              " '30',\n",
              " '31',\n",
              " '31st',\n",
              " '32',\n",
              " '33',\n",
              " '34',\n",
              " '35',\n",
              " '36',\n",
              " '37',\n",
              " '38',\n",
              " '39',\n",
              " '3D',\n",
              " '3d',\n",
              " '4',\n",
              " '40',\n",
              " '400',\n",
              " '41',\n",
              " '42',\n",
              " '43',\n",
              " '44',\n",
              " '440',\n",
              " '45',\n",
              " '46',\n",
              " '47',\n",
              " '48',\n",
              " '49',\n",
              " '4TH',\n",
              " '5',\n",
              " '50',\n",
              " '500',\n",
              " '51',\n",
              " '52',\n",
              " '53',\n",
              " '54',\n",
              " '55',\n",
              " '550',\n",
              " '56',\n",
              " '57',\n",
              " '58',\n",
              " '59',\n",
              " '5TH',\n",
              " '6',\n",
              " '60',\n",
              " '61',\n",
              " '62',\n",
              " '63',\n",
              " '64',\n",
              " '65',\n",
              " '66',\n",
              " '67',\n",
              " '68',\n",
              " '69',\n",
              " '7',\n",
              " '70',\n",
              " '71',\n",
              " '72',\n",
              " '73',\n",
              " '74',\n",
              " '75',\n",
              " '76',\n",
              " '77',\n",
              " '78',\n",
              " '79',\n",
              " '8',\n",
              " '80',\n",
              " '800',\n",
              " '81',\n",
              " '82',\n",
              " '83',\n",
              " '84',\n",
              " '85',\n",
              " '86',\n",
              " '87',\n",
              " '88',\n",
              " '89',\n",
              " '890',\n",
              " '9',\n",
              " '90',\n",
              " '91',\n",
              " '92',\n",
              " '93',\n",
              " '94',\n",
              " '95',\n",
              " '96',\n",
              " '97',\n",
              " '98',\n",
              " '99',\n",
              " ':',\n",
              " ':\"-',\n",
              " ':--',\n",
              " ':--\"',\n",
              " \":--'\",\n",
              " ';',\n",
              " ';\"',\n",
              " ';\"--',\n",
              " ';\"--(',\n",
              " \";'\",\n",
              " ';*',\n",
              " ';--',\n",
              " ';--\"',\n",
              " \";--'\",\n",
              " '?',\n",
              " '?\"',\n",
              " '?\"--',\n",
              " \"?'\",\n",
              " \"?'--'\",\n",
              " '?--',\n",
              " '?--\"',\n",
              " \"?--'\",\n",
              " 'A',\n",
              " 'ABOUT',\n",
              " 'ACCOUNT',\n",
              " 'ADDITIONAL',\n",
              " 'ADVANCING',\n",
              " 'ADVENTURES',\n",
              " 'AFFGHANISTAN',\n",
              " 'AFRICA',\n",
              " 'AFTER',\n",
              " 'AGAINST',\n",
              " 'AHAB',\n",
              " 'ALFRED',\n",
              " 'ALGERINE',\n",
              " 'ALIVE',\n",
              " 'ALL',\n",
              " 'ALONE',\n",
              " 'AM',\n",
              " 'AMERICA',\n",
              " 'AMONG',\n",
              " 'ANCHORS',\n",
              " 'AND',\n",
              " 'ANGLO',\n",
              " 'ANIMAL',\n",
              " 'ANNALS',\n",
              " 'ANNUS',\n",
              " 'ANOTHER',\n",
              " 'ANY',\n",
              " 'APOLOGY',\n",
              " 'APPLICATION',\n",
              " 'APPROACHING',\n",
              " 'ARCTIC',\n",
              " 'ARE',\n",
              " 'AROUND',\n",
              " 'AS',\n",
              " 'ASCENDING',\n",
              " 'ASIA',\n",
              " 'ASIDE',\n",
              " 'ASPECT',\n",
              " 'AT',\n",
              " 'ATTACK',\n",
              " 'ATTACKED',\n",
              " 'ATTITUDES',\n",
              " 'AUGUST',\n",
              " 'AUTHOR',\n",
              " 'AZORE',\n",
              " 'Abashed',\n",
              " 'Abednego',\n",
              " 'Abel',\n",
              " 'Abjectus',\n",
              " 'Aboard',\n",
              " 'Abominable',\n",
              " 'About',\n",
              " 'Above',\n",
              " 'Abraham',\n",
              " 'Academy',\n",
              " 'Accessory',\n",
              " 'According',\n",
              " 'Accordingly',\n",
              " 'Accursed',\n",
              " 'Achilles',\n",
              " 'Actium',\n",
              " 'Acushnet',\n",
              " 'Adam',\n",
              " 'Adieu',\n",
              " 'Adios',\n",
              " 'Admiral',\n",
              " 'Admirals',\n",
              " 'Advance',\n",
              " 'Advancement',\n",
              " 'Adventures',\n",
              " 'Adverse',\n",
              " 'Advocate',\n",
              " 'Affected',\n",
              " 'Affidavit',\n",
              " 'Affrighted',\n",
              " 'Afric',\n",
              " 'Africa',\n",
              " 'African',\n",
              " 'Africans',\n",
              " 'Aft',\n",
              " 'After',\n",
              " 'Afterwards',\n",
              " 'Again',\n",
              " 'Against',\n",
              " 'Agassiz',\n",
              " 'Ages',\n",
              " 'Ah',\n",
              " 'Ahab',\n",
              " 'Ahabs',\n",
              " 'Ahasuerus',\n",
              " 'Ahaz',\n",
              " 'Ahoy',\n",
              " 'Ain',\n",
              " 'Air',\n",
              " 'Akin',\n",
              " 'Alabama',\n",
              " 'Aladdin',\n",
              " 'Alarmed',\n",
              " 'Alas',\n",
              " 'Albatross',\n",
              " 'Albemarle',\n",
              " 'Albert',\n",
              " 'Albicore',\n",
              " 'Albino',\n",
              " 'Aldrovandi',\n",
              " 'Aldrovandus',\n",
              " 'Alexander',\n",
              " 'Alexanders',\n",
              " 'Alfred',\n",
              " 'Algerine',\n",
              " 'Algiers',\n",
              " 'Alike',\n",
              " 'Alive',\n",
              " 'All',\n",
              " 'Alleghanian',\n",
              " 'Alleghanies',\n",
              " 'Alley',\n",
              " 'Almanack',\n",
              " 'Almighty',\n",
              " 'Almost',\n",
              " 'Aloft',\n",
              " 'Alone',\n",
              " 'Alps',\n",
              " 'Already',\n",
              " 'Also',\n",
              " 'Am',\n",
              " 'Ambergriese',\n",
              " 'Ambergris',\n",
              " 'Amelia',\n",
              " 'America',\n",
              " 'American',\n",
              " 'Americans',\n",
              " 'Americas',\n",
              " 'Amittai',\n",
              " 'Among',\n",
              " 'Amsterdam',\n",
              " 'An',\n",
              " 'Anacharsis',\n",
              " 'Anak',\n",
              " 'Anatomist',\n",
              " 'And',\n",
              " 'Andes',\n",
              " 'Andrew',\n",
              " 'Andromeda',\n",
              " 'Angel',\n",
              " 'Angelo',\n",
              " 'Angels',\n",
              " 'Animated',\n",
              " 'Annawon',\n",
              " 'Anne',\n",
              " 'Anno',\n",
              " 'Anomalous',\n",
              " 'Another',\n",
              " 'Answer',\n",
              " 'Antarctic',\n",
              " 'Antilles',\n",
              " 'Antiochus',\n",
              " 'Antony',\n",
              " 'Antwerp',\n",
              " 'Anvil',\n",
              " 'Any',\n",
              " 'Anyhow',\n",
              " 'Anything',\n",
              " 'Anyway',\n",
              " 'Apollo',\n",
              " 'Apoplexy',\n",
              " 'Applied',\n",
              " 'Apply',\n",
              " 'April',\n",
              " 'Aquarius',\n",
              " 'Arch',\n",
              " 'Archbishop',\n",
              " 'Arched',\n",
              " 'Archer',\n",
              " 'Archipelagoes',\n",
              " 'Archy',\n",
              " 'Arctic',\n",
              " 'Are',\n",
              " 'Arethusa',\n",
              " 'Argo',\n",
              " 'Aries',\n",
              " 'Arion',\n",
              " 'Aristotle',\n",
              " 'Ark',\n",
              " 'Arkansas',\n",
              " 'Arkite',\n",
              " 'Arm',\n",
              " 'Armada',\n",
              " 'Arnold',\n",
              " 'Aroostook',\n",
              " 'Around',\n",
              " 'Arrayed',\n",
              " 'Arrived',\n",
              " 'Arsacidean',\n",
              " 'Arsacides',\n",
              " 'Art',\n",
              " 'Artedi',\n",
              " 'Arter',\n",
              " 'Articles',\n",
              " 'As',\n",
              " 'Asa',\n",
              " 'Ashantee',\n",
              " 'Ashore',\n",
              " 'Asia',\n",
              " 'Asiatic',\n",
              " 'Asiatics',\n",
              " 'Aside',\n",
              " 'Asphaltites',\n",
              " 'Assaulted',\n",
              " 'Assume',\n",
              " 'Assuming',\n",
              " 'Assuredly',\n",
              " 'Assyrian',\n",
              " 'Astern',\n",
              " 'Astir',\n",
              " 'Astronomy',\n",
              " 'At',\n",
              " 'Atlantic',\n",
              " 'Atlantics',\n",
              " 'Attached',\n",
              " 'Attend',\n",
              " 'August',\n",
              " 'Aunt',\n",
              " 'Australia',\n",
              " 'Australian',\n",
              " 'Austrian',\n",
              " 'Author',\n",
              " 'Authors',\n",
              " 'Auto',\n",
              " 'Availing',\n",
              " 'Avast',\n",
              " 'Avatar',\n",
              " 'Aware',\n",
              " 'Away',\n",
              " 'Awful',\n",
              " 'Ay',\n",
              " 'Aye',\n",
              " 'Azores',\n",
              " 'BACK',\n",
              " 'BACKED',\n",
              " 'BACON',\n",
              " 'BALEINE',\n",
              " 'BALLENA',\n",
              " 'BANKS',\n",
              " 'BARON',\n",
              " 'BATTLE',\n",
              " 'BE',\n",
              " 'BEALE',\n",
              " 'BEFORE',\n",
              " 'BEING',\n",
              " 'BELFAST',\n",
              " 'BELOW',\n",
              " 'BENCH',\n",
              " 'BENNETT',\n",
              " 'BERMUDAS',\n",
              " 'BETWEEN',\n",
              " 'BEWARE',\n",
              " 'BIOGRAPHY',\n",
              " 'BIT',\n",
              " 'BLACK',\n",
              " 'BLACKSMITH',\n",
              " 'BLACKSTONE',\n",
              " 'BLOOD',\n",
              " 'BLOODY',\n",
              " 'BLOWS',\n",
              " 'BOARD',\n",
              " 'BOAT',\n",
              " 'BOATS',\n",
              " 'BOOK',\n",
              " 'BOOKS',\n",
              " 'BOSOM',\n",
              " 'BOTTOM',\n",
              " 'BOUTON',\n",
              " 'BRACE',\n",
              " 'BRACTON',\n",
              " 'BREACH',\n",
              " 'BREAKERS',\n",
              " 'BREAKWATER',\n",
              " 'BRIT',\n",
              " 'BROKE',\n",
              " 'BROTHER',\n",
              " 'BROWN',\n",
              " 'BROWNE',\n",
              " 'BURKE',\n",
              " 'BURST',\n",
              " 'BUSILY',\n",
              " 'BY',\n",
              " 'Babel',\n",
              " 'Babylon',\n",
              " 'Babylonian',\n",
              " 'Bachelor',\n",
              " 'Back',\n",
              " 'Backs',\n",
              " 'Bad',\n",
              " 'Baden',\n",
              " 'Bag',\n",
              " 'Balaene',\n",
              " 'Baliene',\n",
              " 'Baling',\n",
              " 'Bally',\n",
              " 'Baltic',\n",
              " 'Baltimore',\n",
              " 'Bamboo',\n",
              " 'Bang',\n",
              " 'Banks',\n",
              " 'Barbary',\n",
              " 'Bare',\n",
              " 'Bargain',\n",
              " 'Baron',\n",
              " 'Barrens',\n",
              " 'Bartholomew',\n",
              " 'Base',\n",
              " 'Bashaw',\n",
              " 'Bashee',\n",
              " 'Basilosaurus',\n",
              " 'Bastille',\n",
              " 'Battering',\n",
              " 'Battery',\n",
              " 'Bay',\n",
              " 'Bays',\n",
              " 'Be',\n",
              " 'Beach',\n",
              " 'Beale',\n",
              " 'Beams',\n",
              " 'Bear',\n",
              " 'Bears',\n",
              " 'Beat',\n",
              " 'Because',\n",
              " 'Becket',\n",
              " 'Bedford',\n",
              " 'Beelzebub',\n",
              " 'Befooled',\n",
              " 'Before',\n",
              " 'Begone',\n",
              " 'Behold',\n",
              " 'Behring',\n",
              " 'Being',\n",
              " 'Belated',\n",
              " 'Belial',\n",
              " 'Believe',\n",
              " 'Belisarius',\n",
              " 'Bell',\n",
              " 'Bellies',\n",
              " 'Beloved',\n",
              " 'Below',\n",
              " 'Belshazzar',\n",
              " 'Belubed',\n",
              " 'Bench',\n",
              " 'Bendigoes',\n",
              " 'Beneath',\n",
              " 'Bengal',\n",
              " 'Benjamin',\n",
              " 'Bennett',\n",
              " 'Bentham',\n",
              " 'Berkshire',\n",
              " 'Berlin',\n",
              " 'Bernard',\n",
              " 'Besides',\n",
              " 'Bess',\n",
              " 'Best',\n",
              " 'Bestow',\n",
              " 'Bethink',\n",
              " 'Better',\n",
              " 'Betty',\n",
              " 'Between',\n",
              " 'Beware',\n",
              " 'Beyond',\n",
              " 'Bible',\n",
              " 'Bibles',\n",
              " 'Bibliographical',\n",
              " 'Bildad',\n",
              " 'Biographical',\n",
              " 'Birmah',\n",
              " 'Bishop',\n",
              " 'Bite',\n",
              " 'Black',\n",
              " 'Blacksmith',\n",
              " 'Blackstone',\n",
              " 'Blanc',\n",
              " 'Blanche',\n",
              " 'Blanco',\n",
              " 'Blang',\n",
              " 'Blanket',\n",
              " 'Blast',\n",
              " 'Bless',\n",
              " 'Blind',\n",
              " 'Blinding',\n",
              " 'Blocksburg',\n",
              " 'Blood',\n",
              " 'Bloody',\n",
              " 'Blue',\n",
              " 'Boat',\n",
              " 'Boats',\n",
              " 'Bobbing',\n",
              " 'Bolivia',\n",
              " 'Bombay',\n",
              " 'Bonapartes',\n",
              " 'Bone',\n",
              " 'Bones',\n",
              " 'Bonneterre',\n",
              " 'Booble',\n",
              " 'Book',\n",
              " 'Boomer',\n",
              " 'Boone',\n",
              " 'Bordeaux',\n",
              " 'Borean',\n",
              " 'Born',\n",
              " 'Borneo',\n",
              " 'Bosom',\n",
              " 'Boston',\n",
              " 'Both',\n",
              " 'Bottle',\n",
              " 'Bottom',\n",
              " 'Bourbons',\n",
              " 'Bout',\n",
              " 'Bouton',\n",
              " 'Bowditch',\n",
              " 'Bower',\n",
              " 'Boy',\n",
              " 'Boys',\n",
              " 'Brace',\n",
              " 'Brahma',\n",
              " 'Brahmins',\n",
              " 'Brandreth',\n",
              " 'Brazil',\n",
              " 'Breakfast',\n",
              " 'Bremen',\n",
              " 'Bress',\n",
              " 'Bridge',\n",
              " 'Brighggians',\n",
              " 'Bright',\n",
              " 'Bring',\n",
              " 'Brisson',\n",
              " 'Brit',\n",
              " 'Britain',\n",
              " 'British',\n",
              " 'Britons',\n",
              " 'Broad',\n",
              " 'Broadway',\n",
              " 'Broke',\n",
              " 'Brother',\n",
              " 'Browne',\n",
              " 'Brute',\n",
              " 'Buckets',\n",
              " 'Bud',\n",
              " 'Buffalo',\n",
              " 'Bulkington',\n",
              " 'Bull',\n",
              " 'Bulwarks',\n",
              " 'Bunger',\n",
              " 'Bungle',\n",
              " 'Bunyan',\n",
              " 'Buoy',\n",
              " 'Buoyed',\n",
              " 'Burke',\n",
              " 'Burkes',\n",
              " 'Burst',\n",
              " 'Burton',\n",
              " 'Burtons',\n",
              " 'Business',\n",
              " 'But',\n",
              " 'Butchers',\n",
              " 'Butler',\n",
              " 'By',\n",
              " 'Byward',\n",
              " 'C',\n",
              " 'CABIN',\n",
              " 'CABINET',\n",
              " 'CANNY',\n",
              " 'CAP',\n",
              " 'CAPTAIN',\n",
              " 'CAPTAINS',\n",
              " 'CAPTORS',\n",
              " 'CARPENTER',\n",
              " 'CATCHES',\n",
              " 'CAULKING',\n",
              " 'CEASE',\n",
              " 'CETI',\n",
              " 'CETUS',\n",
              " 'CHACE',\n",
              " 'CHAPTER',\n",
              " 'CHAPTERS',\n",
              " 'CHARLES',\n",
              " 'CHEERLY',\n",
              " 'CHEEVER',\n",
              " 'CHIEF',\n",
              " 'CHINA',\n",
              " 'CHOP',\n",
              " 'CHORUS',\n",
              " 'CHRONICLER',\n",
              " 'CIRCUMNAVIGATION',\n",
              " 'CLEAN',\n",
              " 'CLOSES',\n",
              " 'CLUSTERS',\n",
              " 'COFFIN',\n",
              " 'COILS',\n",
              " 'COLEMAN',\n",
              " 'COLL',\n",
              " 'COLNETT',\n",
              " 'COMES',\n",
              " 'COMMERCIAL',\n",
              " 'COMMODORE',\n",
              " 'COMSTOCK',\n",
              " 'CONTESTED',\n",
              " 'CONTINUES',\n",
              " 'CONVERSATIONS',\n",
              " 'COOK',\n",
              " 'COOPER',\n",
              " 'COWLEY',\n",
              " 'COWPER',\n",
              " 'CREWS',\n",
              " 'CROW',\n",
              " 'CRUISE',\n",
              " 'CRUISING',\n",
              " 'CRUIZE',\n",
              " 'CURRENTS',\n",
              " 'CUVIER',\n",
              " 'Cabaco',\n",
              " 'Cabin',\n",
              " 'Cachalot',\n",
              " 'Cadiz',\n",
              " 'Caesar',\n",
              " 'Caesarian',\n",
              " 'Cain',\n",
              " 'Calais',\n",
              " 'Californian',\n",
              " 'Call',\n",
              " 'Callao',\n",
              " 'Cambyses',\n",
              " 'Camel',\n",
              " 'Campagna',\n",
              " 'Can',\n",
              " 'Canaan',\n",
              " 'Canada',\n",
              " 'Canadian',\n",
              " 'Canal',\n",
              " 'Canaller',\n",
              " 'Canallers',\n",
              " 'Canals',\n",
              " 'Canaris',\n",
              " 'Cancer',\n",
              " 'Candles',\n",
              " 'Cannibal',\n",
              " 'Cannibals',\n",
              " 'Cannon',\n",
              " 'Canst',\n",
              " 'Cant',\n",
              " 'Canterbury',\n",
              " 'Cap',\n",
              " 'Cape',\n",
              " 'Capes',\n",
              " 'Capricornus',\n",
              " 'Captain',\n",
              " 'Captains',\n",
              " 'Capting',\n",
              " 'Caramba',\n",
              " 'Careful',\n",
              " 'Carefully',\n",
              " 'Carey',\n",
              " 'Carpenter',\n",
              " 'Carpet',\n",
              " 'Carrol',\n",
              " 'Carson',\n",
              " 'Carthage',\n",
              " 'Caryatid',\n",
              " 'Case',\n",
              " 'Cash',\n",
              " 'Cassock',\n",
              " 'Castaway',\n",
              " 'Castle',\n",
              " 'Categut',\n",
              " 'Cathedral',\n",
              " 'Catholic',\n",
              " 'Cato',\n",
              " 'Catskill',\n",
              " 'Cattegat',\n",
              " 'Caught',\n",
              " 'Cave',\n",
              " 'Caw',\n",
              " 'Cellini',\n",
              " 'Central',\n",
              " 'Certain',\n",
              " 'Certainly',\n",
              " 'Cervantes',\n",
              " 'Cetacea',\n",
              " 'Cetacean',\n",
              " 'Cetology',\n",
              " 'Cetus',\n",
              " 'Ceylon',\n",
              " 'Chace',\n",
              " 'Chaldee',\n",
              " 'Champagne',\n",
              " 'Champollion',\n",
              " 'Channel',\n",
              " 'Chapel',\n",
              " 'Charing',\n",
              " 'Charity',\n",
              " 'Charlemagne',\n",
              " 'Charley',\n",
              " 'Chart',\n",
              " 'Chartering',\n",
              " 'Chase',\n",
              " 'Cheever',\n",
              " 'Cherries',\n",
              " 'Chestnut',\n",
              " 'Chief',\n",
              " 'Childe',\n",
              " 'Chili',\n",
              " 'Chilian',\n",
              " 'China',\n",
              " 'Chinese',\n",
              " 'Cholo',\n",
              " 'Chowder',\n",
              " 'Christ',\n",
              " 'Christendom',\n",
              " 'Christian',\n",
              " 'Christianity',\n",
              " 'Christians',\n",
              " 'Christmas',\n",
              " 'Church',\n",
              " 'Cinque',\n",
              " 'Circassian',\n",
              " 'Circumambulate',\n",
              " 'Cistern',\n",
              " 'Civitas',\n",
              " 'Clam',\n",
              " 'Clap',\n",
              " 'Claus',\n",
              " 'Clay',\n",
              " 'Clear',\n",
              " 'Clearing',\n",
              " 'Cleopatra',\n",
              " 'Cleveland',\n",
              " 'Clifford',\n",
              " 'Clinging',\n",
              " 'Clootz',\n",
              " 'Close',\n",
              " 'Closing',\n",
              " 'Cloud',\n",
              " 'Cluny',\n",
              " 'Coast',\n",
              " 'Cock',\n",
              " 'Cockatoo',\n",
              " 'Cod',\n",
              " 'Cods',\n",
              " 'Coenties',\n",
              " 'Coffin',\n",
              " 'Coffins',\n",
              " 'Cognac',\n",
              " 'Coke',\n",
              " 'Cold',\n",
              " 'Coleman',\n",
              " 'Coleridge',\n",
              " 'College',\n",
              " 'Colnett',\n",
              " 'Cologne',\n",
              " 'Colonies',\n",
              " 'Colossus',\n",
              " 'Columbus',\n",
              " 'Come',\n",
              " 'Coming',\n",
              " 'Commanded',\n",
              " 'Commanders',\n",
              " 'Commend',\n",
              " 'Commodore',\n",
              " 'Commodores',\n",
              " 'Common',\n",
              " 'Commonly',\n",
              " 'Commons',\n",
              " 'Commonwealth',\n",
              " 'Companies',\n",
              " 'Comparing',\n",
              " 'Concerning',\n",
              " 'Congo',\n",
              " 'Congregation',\n",
              " 'Congregational',\n",
              " 'Conjuror',\n",
              " 'Connecticut',\n",
              " 'Consequently',\n",
              " 'Consider',\n",
              " 'Considering',\n",
              " 'Constable',\n",
              " 'Constantine',\n",
              " 'Constantinople',\n",
              " 'Consumptive',\n",
              " 'Continents',\n",
              " 'Contrasted',\n",
              " 'Conversation',\n",
              " 'Convulsively',\n",
              " 'Cook',\n",
              " 'Cooke',\n",
              " 'Cooks',\n",
              " 'Cooper',\n",
              " 'Coopman',\n",
              " 'Copenhagen',\n",
              " 'Coppered',\n",
              " 'Corinthians',\n",
              " 'Corkscrew',\n",
              " 'Corlaer',\n",
              " 'Corlears',\n",
              " 'Coronation',\n",
              " 'Corresponding',\n",
              " 'Corrupt',\n",
              " 'Cough',\n",
              " 'Could',\n",
              " 'Count',\n",
              " 'Counterpane',\n",
              " 'County',\n",
              " 'Court',\n",
              " 'Cousin',\n",
              " 'Cowper',\n",
              " 'Crab',\n",
              " 'Crack',\n",
              " 'Crammer',\n",
              " 'Crappo',\n",
              " 'Crappoes',\n",
              " 'Crazed',\n",
              " 'Creagh',\n",
              " 'Created',\n",
              " 'Cretan',\n",
              " 'Crete',\n",
              " ...]"
            ]
          },
          "metadata": {},
          "execution_count": 15
        }
      ]
    },
    {
      "cell_type": "code",
      "source": [
        "sent3"
      ],
      "metadata": {
        "colab": {
          "base_uri": "https://localhost:8080/"
        },
        "id": "utCy5KkCHz85",
        "outputId": "f9f1692c-b9d7-4944-fcf6-609fabab9a0c"
      },
      "execution_count": 16,
      "outputs": [
        {
          "output_type": "execute_result",
          "data": {
            "text/plain": [
              "['In',\n",
              " 'the',\n",
              " 'beginning',\n",
              " 'God',\n",
              " 'created',\n",
              " 'the',\n",
              " 'heaven',\n",
              " 'and',\n",
              " 'the',\n",
              " 'earth',\n",
              " '.']"
            ]
          },
          "metadata": {},
          "execution_count": 16
        }
      ]
    },
    {
      "cell_type": "code",
      "source": [
        "sent3.index('and')"
      ],
      "metadata": {
        "colab": {
          "base_uri": "https://localhost:8080/"
        },
        "id": "ksuBp943JRzV",
        "outputId": "fca898f9-c772-4cb8-ba0b-8520c1b4a67e"
      },
      "execution_count": 17,
      "outputs": [
        {
          "output_type": "execute_result",
          "data": {
            "text/plain": [
              "7"
            ]
          },
          "metadata": {},
          "execution_count": 17
        }
      ]
    },
    {
      "cell_type": "code",
      "source": [
        "sent3[7]"
      ],
      "metadata": {
        "colab": {
          "base_uri": "https://localhost:8080/",
          "height": 35
        },
        "id": "uu52_t_zJV99",
        "outputId": "e9e5dbde-0fbb-4ba1-de21-3ca753e74a8e"
      },
      "execution_count": 18,
      "outputs": [
        {
          "output_type": "execute_result",
          "data": {
            "text/plain": [
              "'and'"
            ],
            "application/vnd.google.colaboratory.intrinsic+json": {
              "type": "string"
            }
          },
          "metadata": {},
          "execution_count": 18
        }
      ]
    },
    {
      "cell_type": "code",
      "source": [
        "f_dist = FreqDist(text3)\n",
        "vocab = list(text3)\n",
        "\n",
        "vocab[:10]"
      ],
      "metadata": {
        "colab": {
          "base_uri": "https://localhost:8080/"
        },
        "id": "sTaz1ZRXJzRL",
        "outputId": "a96e1dcc-8930-43f8-f5de-0811e47f308c"
      },
      "execution_count": 19,
      "outputs": [
        {
          "output_type": "execute_result",
          "data": {
            "text/plain": [
              "['In',\n",
              " 'the',\n",
              " 'beginning',\n",
              " 'God',\n",
              " 'created',\n",
              " 'the',\n",
              " 'heaven',\n",
              " 'and',\n",
              " 'the',\n",
              " 'earth']"
            ]
          },
          "metadata": {},
          "execution_count": 19
        }
      ]
    },
    {
      "cell_type": "code",
      "source": [
        "f_dist.plot(20)"
      ],
      "metadata": {
        "colab": {
          "base_uri": "https://localhost:8080/",
          "height": 292
        },
        "id": "WCvJ5p7EKP_-",
        "outputId": "68167889-38cf-4682-f5bd-6c4198d7c4d1"
      },
      "execution_count": 20,
      "outputs": [
        {
          "output_type": "display_data",
          "data": {
            "text/plain": [
              "<Figure size 432x288 with 1 Axes>"
            ],
            "image/png": "[encoded data removed]"
          },
          "metadata": {
            "needs_background": "light"
          }
        }
      ]
    },
    {
      "cell_type": "code",
      "source": [
        "f_dist.plot(20, cumulative=True)"
      ],
      "metadata": {
        "id": "HadvSLEaMc72",
        "outputId": "5bbf1873-0ade-4445-aa61-a36ef2e87637",
        "colab": {
          "base_uri": "https://localhost:8080/",
          "height": 295
        }
      },
      "execution_count": 21,
      "outputs": [
        {
          "output_type": "display_data",
          "data": {
            "text/plain": [
              "<Figure size 432x288 with 1 Axes>"
            ],
            "image/png": "[encoded data removed]"
          },
          "metadata": {
            "needs_background": "light"
          }
        }
      ]
    },
    {
      "cell_type": "code",
      "source": [
        ""
      ],
      "metadata": {
        "id": "w3zfaFxmEeLN"
      },
      "execution_count": 21,
      "outputs": []
    },
    {
      "cell_type": "markdown",
      "source": [
        "# Gutenberg"
      ],
      "metadata": {
        "id": "dBQ1FfACbxe3"
      }
    },
    {
      "cell_type": "code",
      "source": [
        "from nltk.corpus import gutenberg\n",
        "gutenberg.fileids()"
      ],
      "metadata": {
        "colab": {
          "base_uri": "https://localhost:8080/"
        },
        "id": "m0Tzb8KFbw1j",
        "outputId": "5d38732d-b7a4-4abb-d93c-9f637a922f12"
      },
      "execution_count": 22,
      "outputs": [
        {
          "output_type": "execute_result",
          "data": {
            "text/plain": [
              "['austen-emma.txt',\n",
              " 'austen-persuasion.txt',\n",
              " 'austen-sense.txt',\n",
              " 'bible-kjv.txt',\n",
              " 'blake-poems.txt',\n",
              " 'bryant-stories.txt',\n",
              " 'burgess-busterbrown.txt',\n",
              " 'carroll-alice.txt',\n",
              " 'chesterton-ball.txt',\n",
              " 'chesterton-brown.txt',\n",
              " 'chesterton-thursday.txt',\n",
              " 'edgeworth-parents.txt',\n",
              " 'melville-moby_dick.txt',\n",
              " 'milton-paradise.txt',\n",
              " 'shakespeare-caesar.txt',\n",
              " 'shakespeare-hamlet.txt',\n",
              " 'shakespeare-macbeth.txt',\n",
              " 'whitman-leaves.txt']"
            ]
          },
          "metadata": {},
          "execution_count": 22
        }
      ]
    },
    {
      "cell_type": "code",
      "source": [
        "emma = gutenberg.words('austen-emma.txt')\n",
        "len(emma)"
      ],
      "metadata": {
        "colab": {
          "base_uri": "https://localhost:8080/"
        },
        "id": "gifWJWP2cpYK",
        "outputId": "6bdad2be-1c35-4cd7-85b5-89eb23924fdd"
      },
      "execution_count": 23,
      "outputs": [
        {
          "output_type": "execute_result",
          "data": {
            "text/plain": [
              "192427"
            ]
          },
          "metadata": {},
          "execution_count": 23
        }
      ]
    },
    {
      "cell_type": "code",
      "source": [
        "for fileid in gutenberg.fileids():\n",
        "    num_chars = len(gutenberg.raw(fileid)) # Tính số lượng ký tự\n",
        "    num_words = len(gutenberg.words(fileid)) # Tính số lượng từ đơn\n",
        "    num_sents = len(gutenberg.sents(fileid)) # Tính số lượng câu.\n",
        "    num_vocab = len(set([w.lower() for w in gutenberg.words(fileid)])) # Tính số lượng từ vựng trong văn bản\n",
        "    print(int(num_chars / num_words), int(num_words / num_sents), int(num_words / num_vocab), fileid)\n"
      ],
      "metadata": {
        "colab": {
          "base_uri": "https://localhost:8080/"
        },
        "id": "y6-ztrtEdH_M",
        "outputId": "2b20f34d-42ce-4ab1-ce1c-e7af8a2f57f4"
      },
      "execution_count": 24,
      "outputs": [
        {
          "output_type": "stream",
          "name": "stdout",
          "text": [
            "4 24 26 austen-emma.txt\n",
            "4 26 16 austen-persuasion.txt\n",
            "4 28 22 austen-sense.txt\n",
            "4 33 79 bible-kjv.txt\n",
            "4 19 5 blake-poems.txt\n",
            "4 19 14 bryant-stories.txt\n",
            "4 17 12 burgess-busterbrown.txt\n",
            "4 20 12 carroll-alice.txt\n",
            "4 20 11 chesterton-ball.txt\n",
            "4 22 11 chesterton-brown.txt\n",
            "4 18 10 chesterton-thursday.txt\n",
            "4 20 24 edgeworth-parents.txt\n",
            "4 25 15 melville-moby_dick.txt\n",
            "4 52 10 milton-paradise.txt\n",
            "4 11 8 shakespeare-caesar.txt\n",
            "4 12 7 shakespeare-hamlet.txt\n",
            "4 12 6 shakespeare-macbeth.txt\n",
            "4 36 12 whitman-leaves.txt\n"
          ]
        }
      ]
    },
    {
      "cell_type": "markdown",
      "source": [
        "# Tokenization \n",
        "\n",
        "https://spacy.io/"
      ],
      "metadata": {
        "id": "qqzg9ByckfpF"
      }
    },
    {
      "cell_type": "code",
      "source": [
        "!python -m spacy download en_core_web_sm\n",
        "!python -m spacy download en_core_web_md"
      ],
      "metadata": {
        "colab": {
          "base_uri": "https://localhost:8080/"
        },
        "id": "kS1NbV3ClWUa",
        "outputId": "f1f33c9e-c12a-46ad-f767-68d8ea6d1daa"
      },
      "execution_count": 25,
      "outputs": [
        {
          "output_type": "stream",
          "name": "stdout",
          "text": [
            "Looking in indexes: https://pypi.org/simple, https://us-python.pkg.dev/colab-wheels/public/simple/\n",
            "Collecting en_core_web_sm==2.2.5\n",
            "  Downloading https://github.com/explosion/spacy-models/releases/download/en_core_web_sm-2.2.5/en_core_web_sm-2.2.5.tar.gz (12.0 MB)\n",
            "\u001b[K     |████████████████████████████████| 12.0 MB 5.4 MB/s \n",
            "\u001b[?25hRequirement already satisfied: spacy>=2.2.2 in /usr/local/lib/python3.7/dist-packages (from en_core_web_sm==2.2.5) (2.2.4)\n",
            "Requirement already satisfied: cymem<2.1.0,>=2.0.2 in /usr/local/lib/python3.7/dist-packages (from spacy>=2.2.2->en_core_web_sm==2.2.5) (2.0.6)\n",
            "Requirement already satisfied: requests<3.0.0,>=2.13.0 in /usr/local/lib/python3.7/dist-packages (from spacy>=2.2.2->en_core_web_sm==2.2.5) (2.23.0)\n",
            "Requirement already satisfied: plac<1.2.0,>=0.9.6 in /usr/local/lib/python3.7/dist-packages (from spacy>=2.2.2->en_core_web_sm==2.2.5) (1.1.3)\n",
            "Requirement already satisfied: srsly<1.1.0,>=1.0.2 in /usr/local/lib/python3.7/dist-packages (from spacy>=2.2.2->en_core_web_sm==2.2.5) (1.0.5)\n",
            "Requirement already satisfied: setuptools in /usr/local/lib/python3.7/dist-packages (from spacy>=2.2.2->en_core_web_sm==2.2.5) (57.4.0)\n",
            "Requirement already satisfied: blis<0.5.0,>=0.4.0 in /usr/local/lib/python3.7/dist-packages (from spacy>=2.2.2->en_core_web_sm==2.2.5) (0.4.1)\n",
            "Requirement already satisfied: numpy>=1.15.0 in /usr/local/lib/python3.7/dist-packages (from spacy>=2.2.2->en_core_web_sm==2.2.5) (1.21.6)\n",
            "Requirement already satisfied: murmurhash<1.1.0,>=0.28.0 in /usr/local/lib/python3.7/dist-packages (from spacy>=2.2.2->en_core_web_sm==2.2.5) (1.0.7)\n",
            "Requirement already satisfied: preshed<3.1.0,>=3.0.2 in /usr/local/lib/python3.7/dist-packages (from spacy>=2.2.2->en_core_web_sm==2.2.5) (3.0.6)\n",
            "Requirement already satisfied: thinc==7.4.0 in /usr/local/lib/python3.7/dist-packages (from spacy>=2.2.2->en_core_web_sm==2.2.5) (7.4.0)\n",
            "Requirement already satisfied: catalogue<1.1.0,>=0.0.7 in /usr/local/lib/python3.7/dist-packages (from spacy>=2.2.2->en_core_web_sm==2.2.5) (1.0.0)\n",
            "Requirement already satisfied: tqdm<5.0.0,>=4.38.0 in /usr/local/lib/python3.7/dist-packages (from spacy>=2.2.2->en_core_web_sm==2.2.5) (4.64.0)\n",
            "Requirement already satisfied: wasabi<1.1.0,>=0.4.0 in /usr/local/lib/python3.7/dist-packages (from spacy>=2.2.2->en_core_web_sm==2.2.5) (0.9.1)\n",
            "Requirement already satisfied: importlib-metadata>=0.20 in /usr/local/lib/python3.7/dist-packages (from catalogue<1.1.0,>=0.0.7->spacy>=2.2.2->en_core_web_sm==2.2.5) (4.11.3)\n",
            "Requirement already satisfied: zipp>=0.5 in /usr/local/lib/python3.7/dist-packages (from importlib-metadata>=0.20->catalogue<1.1.0,>=0.0.7->spacy>=2.2.2->en_core_web_sm==2.2.5) (3.8.0)\n",
            "Requirement already satisfied: typing-extensions>=3.6.4 in /usr/local/lib/python3.7/dist-packages (from importlib-metadata>=0.20->catalogue<1.1.0,>=0.0.7->spacy>=2.2.2->en_core_web_sm==2.2.5) (4.2.0)\n",
            "Requirement already satisfied: certifi>=2017.4.17 in /usr/local/lib/python3.7/dist-packages (from requests<3.0.0,>=2.13.0->spacy>=2.2.2->en_core_web_sm==2.2.5) (2022.5.18.1)\n",
            "Requirement already satisfied: urllib3!=1.25.0,!=1.25.1,<1.26,>=1.21.1 in /usr/local/lib/python3.7/dist-packages (from requests<3.0.0,>=2.13.0->spacy>=2.2.2->en_core_web_sm==2.2.5) (1.24.3)\n",
            "Requirement already satisfied: idna<3,>=2.5 in /usr/local/lib/python3.7/dist-packages (from requests<3.0.0,>=2.13.0->spacy>=2.2.2->en_core_web_sm==2.2.5) (2.10)\n",
            "Requirement already satisfied: chardet<4,>=3.0.2 in /usr/local/lib/python3.7/dist-packages (from requests<3.0.0,>=2.13.0->spacy>=2.2.2->en_core_web_sm==2.2.5) (3.0.4)\n",
            "\u001b[38;5;2m✔ Download and installation successful\u001b[0m\n",
            "You can now load the model via spacy.load('en_core_web_sm')\n",
            "Looking in indexes: https://pypi.org/simple, https://us-python.pkg.dev/colab-wheels/public/simple/\n",
            "Collecting en_core_web_md==2.2.5\n",
            "  Downloading https://github.com/explosion/spacy-models/releases/download/en_core_web_md-2.2.5/en_core_web_md-2.2.5.tar.gz (96.4 MB)\n",
            "\u001b[K     |████████████████████████████████| 96.4 MB 1.4 MB/s \n",
            "\u001b[?25hRequirement already satisfied: spacy>=2.2.2 in /usr/local/lib/python3.7/dist-packages (from en_core_web_md==2.2.5) (2.2.4)\n",
            "Requirement already satisfied: plac<1.2.0,>=0.9.6 in /usr/local/lib/python3.7/dist-packages (from spacy>=2.2.2->en_core_web_md==2.2.5) (1.1.3)\n",
            "Requirement already satisfied: catalogue<1.1.0,>=0.0.7 in /usr/local/lib/python3.7/dist-packages (from spacy>=2.2.2->en_core_web_md==2.2.5) (1.0.0)\n",
            "Requirement already satisfied: thinc==7.4.0 in /usr/local/lib/python3.7/dist-packages (from spacy>=2.2.2->en_core_web_md==2.2.5) (7.4.0)\n",
            "Requirement already satisfied: tqdm<5.0.0,>=4.38.0 in /usr/local/lib/python3.7/dist-packages (from spacy>=2.2.2->en_core_web_md==2.2.5) (4.64.0)\n",
            "Requirement already satisfied: requests<3.0.0,>=2.13.0 in /usr/local/lib/python3.7/dist-packages (from spacy>=2.2.2->en_core_web_md==2.2.5) (2.23.0)\n",
            "Requirement already satisfied: srsly<1.1.0,>=1.0.2 in /usr/local/lib/python3.7/dist-packages (from spacy>=2.2.2->en_core_web_md==2.2.5) (1.0.5)\n",
            "Requirement already satisfied: setuptools in /usr/local/lib/python3.7/dist-packages (from spacy>=2.2.2->en_core_web_md==2.2.5) (57.4.0)\n",
            "Requirement already satisfied: cymem<2.1.0,>=2.0.2 in /usr/local/lib/python3.7/dist-packages (from spacy>=2.2.2->en_core_web_md==2.2.5) (2.0.6)\n",
            "Requirement already satisfied: blis<0.5.0,>=0.4.0 in /usr/local/lib/python3.7/dist-packages (from spacy>=2.2.2->en_core_web_md==2.2.5) (0.4.1)\n",
            "Requirement already satisfied: murmurhash<1.1.0,>=0.28.0 in /usr/local/lib/python3.7/dist-packages (from spacy>=2.2.2->en_core_web_md==2.2.5) (1.0.7)\n",
            "Requirement already satisfied: wasabi<1.1.0,>=0.4.0 in /usr/local/lib/python3.7/dist-packages (from spacy>=2.2.2->en_core_web_md==2.2.5) (0.9.1)\n",
            "Requirement already satisfied: preshed<3.1.0,>=3.0.2 in /usr/local/lib/python3.7/dist-packages (from spacy>=2.2.2->en_core_web_md==2.2.5) (3.0.6)\n",
            "Requirement already satisfied: numpy>=1.15.0 in /usr/local/lib/python3.7/dist-packages (from spacy>=2.2.2->en_core_web_md==2.2.5) (1.21.6)\n",
            "Requirement already satisfied: importlib-metadata>=0.20 in /usr/local/lib/python3.7/dist-packages (from catalogue<1.1.0,>=0.0.7->spacy>=2.2.2->en_core_web_md==2.2.5) (4.11.3)\n",
            "Requirement already satisfied: typing-extensions>=3.6.4 in /usr/local/lib/python3.7/dist-packages (from importlib-metadata>=0.20->catalogue<1.1.0,>=0.0.7->spacy>=2.2.2->en_core_web_md==2.2.5) (4.2.0)\n",
            "Requirement already satisfied: zipp>=0.5 in /usr/local/lib/python3.7/dist-packages (from importlib-metadata>=0.20->catalogue<1.1.0,>=0.0.7->spacy>=2.2.2->en_core_web_md==2.2.5) (3.8.0)\n",
            "Requirement already satisfied: idna<3,>=2.5 in /usr/local/lib/python3.7/dist-packages (from requests<3.0.0,>=2.13.0->spacy>=2.2.2->en_core_web_md==2.2.5) (2.10)\n",
            "Requirement already satisfied: certifi>=2017.4.17 in /usr/local/lib/python3.7/dist-packages (from requests<3.0.0,>=2.13.0->spacy>=2.2.2->en_core_web_md==2.2.5) (2022.5.18.1)\n",
            "Requirement already satisfied: chardet<4,>=3.0.2 in /usr/local/lib/python3.7/dist-packages (from requests<3.0.0,>=2.13.0->spacy>=2.2.2->en_core_web_md==2.2.5) (3.0.4)\n",
            "Requirement already satisfied: urllib3!=1.25.0,!=1.25.1,<1.26,>=1.21.1 in /usr/local/lib/python3.7/dist-packages (from requests<3.0.0,>=2.13.0->spacy>=2.2.2->en_core_web_md==2.2.5) (1.24.3)\n",
            "Building wheels for collected packages: en-core-web-md\n",
            "  Building wheel for en-core-web-md (setup.py) ... \u001b[?25l\u001b[?25hdone\n",
            "  Created wheel for en-core-web-md: filename=en_core_web_md-2.2.5-py3-none-any.whl size=98051301 sha256=76c144ab4a26b34b9e0a2e0b4c5de7bdd146b6057573e4b298195280711ad37b\n",
            "  Stored in directory: /tmp/pip-ephem-wheel-cache-op38nxsr/wheels/69/c5/b8/4f1c029d89238734311b3269762ab2ee325a42da2ce8edb997\n",
            "Successfully built en-core-web-md\n",
            "Installing collected packages: en-core-web-md\n",
            "Successfully installed en-core-web-md-2.2.5\n",
            "\u001b[38;5;2m✔ Download and installation successful\u001b[0m\n",
            "You can now load the model via spacy.load('en_core_web_md')\n"
          ]
        }
      ]
    },
    {
      "cell_type": "code",
      "source": [
        "import spacy \n",
        "nlp = spacy.load(\"en_core_web_sm\")\n",
        "# nlp1 = spacy.load(\"en_core_web_md\")"
      ],
      "metadata": {
        "id": "Ogg1bXn6kewB"
      },
      "execution_count": 26,
      "outputs": []
    },
    {
      "cell_type": "code",
      "source": [
        "s1 = \"Starting early with your learning will mean that you have time to deal with things in small steps. Even a large goal is more approachable if you break it down into smaller ones and just get started.\"\n",
        "s2= \"Using https://www.google.com/ to find something\"\n",
        "s3= \"Let's go, Pikachu!\""
      ],
      "metadata": {
        "id": "_R_dZlzAk7Bg"
      },
      "execution_count": 27,
      "outputs": []
    },
    {
      "cell_type": "code",
      "source": [
        "doc1 = nlp(s1)\n",
        "for word in doc1[:5]:\n",
        "  print(word)"
      ],
      "metadata": {
        "colab": {
          "base_uri": "https://localhost:8080/"
        },
        "id": "mbDXQpWelRxf",
        "outputId": "7258d8ad-83f2-4d35-d26a-b1176b408bab"
      },
      "execution_count": 28,
      "outputs": [
        {
          "output_type": "stream",
          "name": "stdout",
          "text": [
            "Starting\n",
            "early\n",
            "with\n",
            "your\n",
            "learning\n"
          ]
        }
      ]
    },
    {
      "cell_type": "code",
      "source": [
        "doc2 = nlp(s2)\n",
        "for word in doc2:\n",
        "  print(word)"
      ],
      "metadata": {
        "colab": {
          "base_uri": "https://localhost:8080/"
        },
        "id": "UxS9K80E8IuX",
        "outputId": "28242d65-a194-4444-c6dd-6a93fb0df42c"
      },
      "execution_count": 29,
      "outputs": [
        {
          "output_type": "stream",
          "name": "stdout",
          "text": [
            "Using\n",
            "https://www.google.com/\n",
            "to\n",
            "find\n",
            "something\n"
          ]
        }
      ]
    },
    {
      "cell_type": "code",
      "source": [
        "doc3 = nlp(s3)\n",
        "for token in doc3:\n",
        "  print(token)"
      ],
      "metadata": {
        "colab": {
          "base_uri": "https://localhost:8080/"
        },
        "id": "FiVwN6xUEim9",
        "outputId": "698cc7f3-b320-41d6-8a17-291e5d6350b9"
      },
      "execution_count": 30,
      "outputs": [
        {
          "output_type": "stream",
          "name": "stdout",
          "text": [
            "Let\n",
            "'s\n",
            "go\n",
            ",\n",
            "Pikachu\n",
            "!\n"
          ]
        }
      ]
    },
    {
      "cell_type": "markdown",
      "source": [
        "#  Stemming & Lemmatization"
      ],
      "metadata": {
        "id": "qCSoxXpJbzn0"
      }
    },
    {
      "cell_type": "markdown",
      "source": [
        "## Stemming"
      ],
      "metadata": {
        "id": "3tnY9YtHfkZz"
      }
    },
    {
      "cell_type": "code",
      "source": [
        "# Steming \n",
        "\n",
        "# Play \n",
        "# Played   => Play\n",
        "# Playing\n",
        "\n",
        "\n",
        "import nltk \n",
        "from nltk.stem.porter import PorterStemmer\n",
        "from nltk.stem.snowball import SnowballStemmer\n",
        "\n"
      ],
      "metadata": {
        "id": "O3R-769OaoX1"
      },
      "execution_count": 31,
      "outputs": []
    },
    {
      "cell_type": "code",
      "source": [
        "arr = ['run', 'running', 'ran', 'runner', 'sing', 'sang', 'song', 'fly', 'swim', 'best', 'are']"
      ],
      "metadata": {
        "id": "-aXpkpUqcKWL"
      },
      "execution_count": 32,
      "outputs": []
    },
    {
      "cell_type": "code",
      "source": [
        "p_stemmer = PorterStemmer()\n",
        "s_stemmer = SnowballStemmer(language = 'english')"
      ],
      "metadata": {
        "id": "UlRePzCsbvH9"
      },
      "execution_count": 33,
      "outputs": []
    },
    {
      "cell_type": "code",
      "source": [
        "for word in arr:\n",
        "  print(word+ ' -------> ' + p_stemmer.stem(word))"
      ],
      "metadata": {
        "colab": {
          "base_uri": "https://localhost:8080/"
        },
        "id": "CQ07PZEJclXx",
        "outputId": "67425b34-9eed-4623-f6b1-058d049a8eab"
      },
      "execution_count": 34,
      "outputs": [
        {
          "output_type": "stream",
          "name": "stdout",
          "text": [
            "run -------> run\n",
            "running -------> run\n",
            "ran -------> ran\n",
            "runner -------> runner\n",
            "sing -------> sing\n",
            "sang -------> sang\n",
            "song -------> song\n",
            "fly -------> fli\n",
            "swim -------> swim\n",
            "best -------> best\n",
            "are -------> are\n"
          ]
        }
      ]
    },
    {
      "cell_type": "code",
      "source": [
        "for word in arr:\n",
        "  print(word+ ' -------> ' + s_stemmer.stem(word))"
      ],
      "metadata": {
        "colab": {
          "base_uri": "https://localhost:8080/"
        },
        "id": "ro4gEYsmdLPK",
        "outputId": "da6d8b84-3c92-4f9c-92d4-2de1e5f0bb28"
      },
      "execution_count": 35,
      "outputs": [
        {
          "output_type": "stream",
          "name": "stdout",
          "text": [
            "run -------> run\n",
            "running -------> run\n",
            "ran -------> ran\n",
            "runner -------> runner\n",
            "sing -------> sing\n",
            "sang -------> sang\n",
            "song -------> song\n",
            "fly -------> fli\n",
            "swim -------> swim\n",
            "best -------> best\n",
            "are -------> are\n"
          ]
        }
      ]
    },
    {
      "cell_type": "markdown",
      "source": [
        "## Lemmatization"
      ],
      "metadata": {
        "id": "Oe2iZ5_7fsdV"
      }
    },
    {
      "cell_type": "code",
      "source": [
        "string = ''\n",
        "for word in arr:\n",
        "  string += ' ' + word\n",
        "\n",
        "string"
      ],
      "metadata": {
        "colab": {
          "base_uri": "https://localhost:8080/",
          "height": 35
        },
        "id": "42vyuZMBf3F6",
        "outputId": "22a627c1-bfc0-4bd8-e2ed-752b93da2e7c"
      },
      "execution_count": 36,
      "outputs": [
        {
          "output_type": "execute_result",
          "data": {
            "text/plain": [
              "' run running ran runner sing sang song fly swim best are'"
            ],
            "application/vnd.google.colaboratory.intrinsic+json": {
              "type": "string"
            }
          },
          "metadata": {},
          "execution_count": 36
        }
      ]
    },
    {
      "cell_type": "code",
      "source": [
        "doc = nlp(string)\n",
        "for token in doc[1:len(doc)]:\n",
        "  print(token.text + ' ----> ' + token.lemma_ )"
      ],
      "metadata": {
        "colab": {
          "base_uri": "https://localhost:8080/"
        },
        "id": "iGT7TxEqj2em",
        "outputId": "cdd9f403-4d07-4927-bbdc-14724c55e2b2"
      },
      "execution_count": 37,
      "outputs": [
        {
          "output_type": "stream",
          "name": "stdout",
          "text": [
            "run ----> run\n",
            "running ----> run\n",
            "ran ----> ran\n",
            "runner ----> runner\n",
            "sing ----> sing\n",
            "sang ----> sang\n",
            "song ----> song\n",
            "fly ----> fly\n",
            "swim ----> swim\n",
            "best ----> good\n",
            "are ----> be\n"
          ]
        }
      ]
    },
    {
      "cell_type": "markdown",
      "source": [
        "# Stop words"
      ],
      "metadata": {
        "id": "R4iH0ckamBsh"
      }
    },
    {
      "cell_type": "code",
      "source": [
        "#stop word: a an the aways \n",
        "\n",
        "import spacy\n",
        "nlp = spacy.load('en_core_web_sm')\n",
        "nlp.Defaults.stop_words"
      ],
      "metadata": {
        "colab": {
          "base_uri": "https://localhost:8080/"
        },
        "id": "kRl48kVwmAmj",
        "outputId": "c3a51cc5-a8ec-4975-93c4-53d3b24fdde5"
      },
      "execution_count": 38,
      "outputs": [
        {
          "output_type": "execute_result",
          "data": {
            "text/plain": [
              "{\"'d\",\n",
              " \"'ll\",\n",
              " \"'m\",\n",
              " \"'re\",\n",
              " \"'s\",\n",
              " \"'ve\",\n",
              " 'a',\n",
              " 'about',\n",
              " 'above',\n",
              " 'across',\n",
              " 'after',\n",
              " 'afterwards',\n",
              " 'again',\n",
              " 'against',\n",
              " 'all',\n",
              " 'almost',\n",
              " 'alone',\n",
              " 'along',\n",
              " 'already',\n",
              " 'also',\n",
              " 'although',\n",
              " 'always',\n",
              " 'am',\n",
              " 'among',\n",
              " 'amongst',\n",
              " 'amount',\n",
              " 'an',\n",
              " 'and',\n",
              " 'another',\n",
              " 'any',\n",
              " 'anyhow',\n",
              " 'anyone',\n",
              " 'anything',\n",
              " 'anyway',\n",
              " 'anywhere',\n",
              " 'are',\n",
              " 'around',\n",
              " 'as',\n",
              " 'at',\n",
              " 'back',\n",
              " 'be',\n",
              " 'became',\n",
              " 'because',\n",
              " 'become',\n",
              " 'becomes',\n",
              " 'becoming',\n",
              " 'been',\n",
              " 'before',\n",
              " 'beforehand',\n",
              " 'behind',\n",
              " 'being',\n",
              " 'below',\n",
              " 'beside',\n",
              " 'besides',\n",
              " 'between',\n",
              " 'beyond',\n",
              " 'both',\n",
              " 'bottom',\n",
              " 'but',\n",
              " 'by',\n",
              " 'ca',\n",
              " 'call',\n",
              " 'can',\n",
              " 'cannot',\n",
              " 'could',\n",
              " 'did',\n",
              " 'do',\n",
              " 'does',\n",
              " 'doing',\n",
              " 'done',\n",
              " 'down',\n",
              " 'due',\n",
              " 'during',\n",
              " 'each',\n",
              " 'eight',\n",
              " 'either',\n",
              " 'eleven',\n",
              " 'else',\n",
              " 'elsewhere',\n",
              " 'empty',\n",
              " 'enough',\n",
              " 'even',\n",
              " 'ever',\n",
              " 'every',\n",
              " 'everyone',\n",
              " 'everything',\n",
              " 'everywhere',\n",
              " 'except',\n",
              " 'few',\n",
              " 'fifteen',\n",
              " 'fifty',\n",
              " 'first',\n",
              " 'five',\n",
              " 'for',\n",
              " 'former',\n",
              " 'formerly',\n",
              " 'forty',\n",
              " 'four',\n",
              " 'from',\n",
              " 'front',\n",
              " 'full',\n",
              " 'further',\n",
              " 'get',\n",
              " 'give',\n",
              " 'go',\n",
              " 'had',\n",
              " 'has',\n",
              " 'have',\n",
              " 'he',\n",
              " 'hence',\n",
              " 'her',\n",
              " 'here',\n",
              " 'hereafter',\n",
              " 'hereby',\n",
              " 'herein',\n",
              " 'hereupon',\n",
              " 'hers',\n",
              " 'herself',\n",
              " 'him',\n",
              " 'himself',\n",
              " 'his',\n",
              " 'how',\n",
              " 'however',\n",
              " 'hundred',\n",
              " 'i',\n",
              " 'if',\n",
              " 'in',\n",
              " 'indeed',\n",
              " 'into',\n",
              " 'is',\n",
              " 'it',\n",
              " 'its',\n",
              " 'itself',\n",
              " 'just',\n",
              " 'keep',\n",
              " 'last',\n",
              " 'latter',\n",
              " 'latterly',\n",
              " 'least',\n",
              " 'less',\n",
              " 'made',\n",
              " 'make',\n",
              " 'many',\n",
              " 'may',\n",
              " 'me',\n",
              " 'meanwhile',\n",
              " 'might',\n",
              " 'mine',\n",
              " 'more',\n",
              " 'moreover',\n",
              " 'most',\n",
              " 'mostly',\n",
              " 'move',\n",
              " 'much',\n",
              " 'must',\n",
              " 'my',\n",
              " 'myself',\n",
              " \"n't\",\n",
              " 'name',\n",
              " 'namely',\n",
              " 'neither',\n",
              " 'never',\n",
              " 'nevertheless',\n",
              " 'next',\n",
              " 'nine',\n",
              " 'no',\n",
              " 'nobody',\n",
              " 'none',\n",
              " 'noone',\n",
              " 'nor',\n",
              " 'not',\n",
              " 'nothing',\n",
              " 'now',\n",
              " 'nowhere',\n",
              " 'n‘t',\n",
              " 'n’t',\n",
              " 'of',\n",
              " 'off',\n",
              " 'often',\n",
              " 'on',\n",
              " 'once',\n",
              " 'one',\n",
              " 'only',\n",
              " 'onto',\n",
              " 'or',\n",
              " 'other',\n",
              " 'others',\n",
              " 'otherwise',\n",
              " 'our',\n",
              " 'ours',\n",
              " 'ourselves',\n",
              " 'out',\n",
              " 'over',\n",
              " 'own',\n",
              " 'part',\n",
              " 'per',\n",
              " 'perhaps',\n",
              " 'please',\n",
              " 'put',\n",
              " 'quite',\n",
              " 'rather',\n",
              " 're',\n",
              " 'really',\n",
              " 'regarding',\n",
              " 'same',\n",
              " 'say',\n",
              " 'see',\n",
              " 'seem',\n",
              " 'seemed',\n",
              " 'seeming',\n",
              " 'seems',\n",
              " 'serious',\n",
              " 'several',\n",
              " 'she',\n",
              " 'should',\n",
              " 'show',\n",
              " 'side',\n",
              " 'since',\n",
              " 'six',\n",
              " 'sixty',\n",
              " 'so',\n",
              " 'some',\n",
              " 'somehow',\n",
              " 'someone',\n",
              " 'something',\n",
              " 'sometime',\n",
              " 'sometimes',\n",
              " 'somewhere',\n",
              " 'still',\n",
              " 'such',\n",
              " 'take',\n",
              " 'ten',\n",
              " 'than',\n",
              " 'that',\n",
              " 'the',\n",
              " 'their',\n",
              " 'them',\n",
              " 'themselves',\n",
              " 'then',\n",
              " 'thence',\n",
              " 'there',\n",
              " 'thereafter',\n",
              " 'thereby',\n",
              " 'therefore',\n",
              " 'therein',\n",
              " 'thereupon',\n",
              " 'these',\n",
              " 'they',\n",
              " 'third',\n",
              " 'this',\n",
              " 'those',\n",
              " 'though',\n",
              " 'three',\n",
              " 'through',\n",
              " 'throughout',\n",
              " 'thru',\n",
              " 'thus',\n",
              " 'to',\n",
              " 'together',\n",
              " 'too',\n",
              " 'top',\n",
              " 'toward',\n",
              " 'towards',\n",
              " 'twelve',\n",
              " 'twenty',\n",
              " 'two',\n",
              " 'under',\n",
              " 'unless',\n",
              " 'until',\n",
              " 'up',\n",
              " 'upon',\n",
              " 'us',\n",
              " 'used',\n",
              " 'using',\n",
              " 'various',\n",
              " 'very',\n",
              " 'via',\n",
              " 'was',\n",
              " 'we',\n",
              " 'well',\n",
              " 'were',\n",
              " 'what',\n",
              " 'whatever',\n",
              " 'when',\n",
              " 'whence',\n",
              " 'whenever',\n",
              " 'where',\n",
              " 'whereafter',\n",
              " 'whereas',\n",
              " 'whereby',\n",
              " 'wherein',\n",
              " 'whereupon',\n",
              " 'wherever',\n",
              " 'whether',\n",
              " 'which',\n",
              " 'while',\n",
              " 'whither',\n",
              " 'who',\n",
              " 'whoever',\n",
              " 'whole',\n",
              " 'whom',\n",
              " 'whose',\n",
              " 'why',\n",
              " 'will',\n",
              " 'with',\n",
              " 'within',\n",
              " 'without',\n",
              " 'would',\n",
              " 'yet',\n",
              " 'you',\n",
              " 'your',\n",
              " 'yours',\n",
              " 'yourself',\n",
              " 'yourselves',\n",
              " '‘d',\n",
              " '‘ll',\n",
              " '‘m',\n",
              " '‘re',\n",
              " '‘s',\n",
              " '‘ve',\n",
              " '’d',\n",
              " '’ll',\n",
              " '’m',\n",
              " '’re',\n",
              " '’s',\n",
              " '’ve'}"
            ]
          },
          "metadata": {},
          "execution_count": 38
        }
      ]
    },
    {
      "cell_type": "code",
      "source": [
        "nlp.vocab['always'].is_stop"
      ],
      "metadata": {
        "colab": {
          "base_uri": "https://localhost:8080/"
        },
        "id": "YwKvYeGinWyD",
        "outputId": "ca8dc123-4fa2-4a8a-cb91-04b27fedcffc"
      },
      "execution_count": 39,
      "outputs": [
        {
          "output_type": "execute_result",
          "data": {
            "text/plain": [
              "True"
            ]
          },
          "metadata": {},
          "execution_count": 39
        }
      ]
    },
    {
      "cell_type": "code",
      "source": [
        "nlp.vocab['love'].is_stop"
      ],
      "metadata": {
        "colab": {
          "base_uri": "https://localhost:8080/"
        },
        "id": "CXksm375ngwo",
        "outputId": "fd6d4fc5-9e7c-4227-dae3-abe83d5545d4"
      },
      "execution_count": 40,
      "outputs": [
        {
          "output_type": "execute_result",
          "data": {
            "text/plain": [
              "False"
            ]
          },
          "metadata": {},
          "execution_count": 40
        }
      ]
    },
    {
      "cell_type": "code",
      "source": [
        "nlp.Defaults.stop_words.add('sangcamap')\n",
        "nlp.vocab['sangcamap'].is_stop"
      ],
      "metadata": {
        "colab": {
          "base_uri": "https://localhost:8080/"
        },
        "id": "F-uWMa1MnmTu",
        "outputId": "fa6b13b2-2074-4502-d877-03c827a28d67"
      },
      "execution_count": 41,
      "outputs": [
        {
          "output_type": "execute_result",
          "data": {
            "text/plain": [
              "True"
            ]
          },
          "metadata": {},
          "execution_count": 41
        }
      ]
    },
    {
      "cell_type": "code",
      "source": [
        "nlp.vocab['sangcamap'].is_stop = False \n",
        "nlp.vocab['sangcamap'].is_stop"
      ],
      "metadata": {
        "colab": {
          "base_uri": "https://localhost:8080/"
        },
        "id": "__vCWcW4wUBv",
        "outputId": "7d97b4fd-f8a9-4a76-aa05-1208869e33c2"
      },
      "execution_count": 42,
      "outputs": [
        {
          "output_type": "execute_result",
          "data": {
            "text/plain": [
              "False"
            ]
          },
          "metadata": {},
          "execution_count": 42
        }
      ]
    },
    {
      "cell_type": "markdown",
      "source": [
        "# POS Tagging\n"
      ],
      "metadata": {
        "id": "1THuTdTykDB8"
      }
    },
    {
      "cell_type": "code",
      "source": [
        "s3 = \"Apple is looking at buying U.K. startup for $1billion\"\n",
        "\n",
        "import spacy \n",
        "nlp = spacy.load('en_core_web_sm')\n",
        "\n",
        "doc = nlp(s3)\n",
        "for token in doc:\n",
        "  print(token.text, token.pos_, token.tag_, spacy.explain(token.tag_))"
      ],
      "metadata": {
        "colab": {
          "base_uri": "https://localhost:8080/"
        },
        "id": "JsuczOoHj-3f",
        "outputId": "d5c51c79-84f2-4fc9-9f3e-d2975031fd25"
      },
      "execution_count": 45,
      "outputs": [
        {
          "output_type": "stream",
          "name": "stdout",
          "text": [
            "Apple PROPN NNP noun, proper singular\n",
            "is AUX VBZ verb, 3rd person singular present\n",
            "looking VERB VBG verb, gerund or present participle\n",
            "at ADP IN conjunction, subordinating or preposition\n",
            "buying VERB VBG verb, gerund or present participle\n",
            "U.K. PROPN NNP noun, proper singular\n",
            "startup NOUN NN noun, singular or mass\n",
            "for ADP IN conjunction, subordinating or preposition\n",
            "$ SYM $ symbol, currency\n",
            "1billion NUM CD cardinal number\n"
          ]
        }
      ]
    },
    {
      "cell_type": "code",
      "source": [
        "for key, val in doc.count_by(spacy.attrs.POS).items():\n",
        "  print(key, doc.vocab[key].text, val)"
      ],
      "metadata": {
        "colab": {
          "base_uri": "https://localhost:8080/"
        },
        "id": "uP_zdslr6WbO",
        "outputId": "3082f277-2026-4171-ed03-4d99b8ac3d8c"
      },
      "execution_count": 47,
      "outputs": [
        {
          "output_type": "stream",
          "name": "stdout",
          "text": [
            "96 PROPN 2\n",
            "87 AUX 1\n",
            "100 VERB 2\n",
            "85 ADP 2\n",
            "92 NOUN 1\n",
            "99 SYM 1\n",
            "93 NUM 1\n"
          ]
        }
      ]
    },
    {
      "cell_type": "code",
      "source": [
        "spacy.displacy.render(docs=doc, style= 'dep', jupyter = True) "
      ],
      "metadata": {
        "colab": {
          "base_uri": "https://localhost:8080/",
          "height": 441
        },
        "id": "BgOSALR67g-b",
        "outputId": "b6e54b29-afc8-4b02-9dd9-9235c73122ca"
      },
      "execution_count": 53,
      "outputs": [
        {
          "output_type": "display_data",
          "data": {
            "text/plain": [
              "<IPython.core.display.HTML object>"
            ],
            "text/html": [
              "<span class=\"tex2jax_ignore\"><svg xmlns=\"http://www.w3.org/2000/svg\" xmlns:xlink=\"http://www.w3.org/1999/xlink\" xml:lang=\"en\" id=\"c88e8fb864b34eb69960809d49a8dd10-0\" class=\"displacy\" width=\"1800\" height=\"399.5\" direction=\"ltr\" style=\"max-width: none; height: 399.5px; color: #000000; background: #ffffff; font-family: Arial; direction: ltr\">\n",
              "<text class=\"displacy-token\" fill=\"currentColor\" text-anchor=\"middle\" y=\"309.5\">\n",
              "    <tspan class=\"displacy-word\" fill=\"currentColor\" x=\"50\">Apple</tspan>\n",
              "    <tspan class=\"displacy-tag\" dy=\"2em\" fill=\"currentColor\" x=\"50\">PROPN</tspan>\n",
              "</text>\n",
              "\n",
              "<text class=\"displacy-token\" fill=\"currentColor\" text-anchor=\"middle\" y=\"309.5\">\n",
              "    <tspan class=\"displacy-word\" fill=\"currentColor\" x=\"225\">is</tspan>\n",
              "    <tspan class=\"displacy-tag\" dy=\"2em\" fill=\"currentColor\" x=\"225\">AUX</tspan>\n",
              "</text>\n",
              "\n",
              "<text class=\"displacy-token\" fill=\"currentColor\" text-anchor=\"middle\" y=\"309.5\">\n",
              "    <tspan class=\"displacy-word\" fill=\"currentColor\" x=\"400\">looking</tspan>\n",
              "    <tspan class=\"displacy-tag\" dy=\"2em\" fill=\"currentColor\" x=\"400\">VERB</tspan>\n",
              "</text>\n",
              "\n",
              "<text class=\"displacy-token\" fill=\"currentColor\" text-anchor=\"middle\" y=\"309.5\">\n",
              "    <tspan class=\"displacy-word\" fill=\"currentColor\" x=\"575\">at</tspan>\n",
              "    <tspan class=\"displacy-tag\" dy=\"2em\" fill=\"currentColor\" x=\"575\">ADP</tspan>\n",
              "</text>\n",
              "\n",
              "<text class=\"displacy-token\" fill=\"currentColor\" text-anchor=\"middle\" y=\"309.5\">\n",
              "    <tspan class=\"displacy-word\" fill=\"currentColor\" x=\"750\">buying</tspan>\n",
              "    <tspan class=\"displacy-tag\" dy=\"2em\" fill=\"currentColor\" x=\"750\">VERB</tspan>\n",
              "</text>\n",
              "\n",
              "<text class=\"displacy-token\" fill=\"currentColor\" text-anchor=\"middle\" y=\"309.5\">\n",
              "    <tspan class=\"displacy-word\" fill=\"currentColor\" x=\"925\">U.K.</tspan>\n",
              "    <tspan class=\"displacy-tag\" dy=\"2em\" fill=\"currentColor\" x=\"925\">PROPN</tspan>\n",
              "</text>\n",
              "\n",
              "<text class=\"displacy-token\" fill=\"currentColor\" text-anchor=\"middle\" y=\"309.5\">\n",
              "    <tspan class=\"displacy-word\" fill=\"currentColor\" x=\"1100\">startup</tspan>\n",
              "    <tspan class=\"displacy-tag\" dy=\"2em\" fill=\"currentColor\" x=\"1100\">NOUN</tspan>\n",
              "</text>\n",
              "\n",
              "<text class=\"displacy-token\" fill=\"currentColor\" text-anchor=\"middle\" y=\"309.5\">\n",
              "    <tspan class=\"displacy-word\" fill=\"currentColor\" x=\"1275\">for</tspan>\n",
              "    <tspan class=\"displacy-tag\" dy=\"2em\" fill=\"currentColor\" x=\"1275\">ADP</tspan>\n",
              "</text>\n",
              "\n",
              "<text class=\"displacy-token\" fill=\"currentColor\" text-anchor=\"middle\" y=\"309.5\">\n",
              "    <tspan class=\"displacy-word\" fill=\"currentColor\" x=\"1450\">$</tspan>\n",
              "    <tspan class=\"displacy-tag\" dy=\"2em\" fill=\"currentColor\" x=\"1450\">SYM</tspan>\n",
              "</text>\n",
              "\n",
              "<text class=\"displacy-token\" fill=\"currentColor\" text-anchor=\"middle\" y=\"309.5\">\n",
              "    <tspan class=\"displacy-word\" fill=\"currentColor\" x=\"1625\">1billion</tspan>\n",
              "    <tspan class=\"displacy-tag\" dy=\"2em\" fill=\"currentColor\" x=\"1625\">NUM</tspan>\n",
              "</text>\n",
              "\n",
              "<g class=\"displacy-arrow\">\n",
              "    <path class=\"displacy-arc\" id=\"arrow-c88e8fb864b34eb69960809d49a8dd10-0-0\" stroke-width=\"2px\" d=\"M70,264.5 C70,89.5 395.0,89.5 395.0,264.5\" fill=\"none\" stroke=\"currentColor\"/>\n",
              "    <text dy=\"1.25em\" style=\"font-size: 0.8em; letter-spacing: 1px\">\n",
              "        <textPath xlink:href=\"#arrow-c88e8fb864b34eb69960809d49a8dd10-0-0\" class=\"displacy-label\" startOffset=\"50%\" side=\"left\" fill=\"currentColor\" text-anchor=\"middle\">nsubj</textPath>\n",
              "    </text>\n",
              "    <path class=\"displacy-arrowhead\" d=\"M70,266.5 L62,254.5 78,254.5\" fill=\"currentColor\"/>\n",
              "</g>\n",
              "\n",
              "<g class=\"displacy-arrow\">\n",
              "    <path class=\"displacy-arc\" id=\"arrow-c88e8fb864b34eb69960809d49a8dd10-0-1\" stroke-width=\"2px\" d=\"M245,264.5 C245,177.0 390.0,177.0 390.0,264.5\" fill=\"none\" stroke=\"currentColor\"/>\n",
              "    <text dy=\"1.25em\" style=\"font-size: 0.8em; letter-spacing: 1px\">\n",
              "        <textPath xlink:href=\"#arrow-c88e8fb864b34eb69960809d49a8dd10-0-1\" class=\"displacy-label\" startOffset=\"50%\" side=\"left\" fill=\"currentColor\" text-anchor=\"middle\">aux</textPath>\n",
              "    </text>\n",
              "    <path class=\"displacy-arrowhead\" d=\"M245,266.5 L237,254.5 253,254.5\" fill=\"currentColor\"/>\n",
              "</g>\n",
              "\n",
              "<g class=\"displacy-arrow\">\n",
              "    <path class=\"displacy-arc\" id=\"arrow-c88e8fb864b34eb69960809d49a8dd10-0-2\" stroke-width=\"2px\" d=\"M420,264.5 C420,177.0 565.0,177.0 565.0,264.5\" fill=\"none\" stroke=\"currentColor\"/>\n",
              "    <text dy=\"1.25em\" style=\"font-size: 0.8em; letter-spacing: 1px\">\n",
              "        <textPath xlink:href=\"#arrow-c88e8fb864b34eb69960809d49a8dd10-0-2\" class=\"displacy-label\" startOffset=\"50%\" side=\"left\" fill=\"currentColor\" text-anchor=\"middle\">prep</textPath>\n",
              "    </text>\n",
              "    <path class=\"displacy-arrowhead\" d=\"M565.0,266.5 L573.0,254.5 557.0,254.5\" fill=\"currentColor\"/>\n",
              "</g>\n",
              "\n",
              "<g class=\"displacy-arrow\">\n",
              "    <path class=\"displacy-arc\" id=\"arrow-c88e8fb864b34eb69960809d49a8dd10-0-3\" stroke-width=\"2px\" d=\"M595,264.5 C595,177.0 740.0,177.0 740.0,264.5\" fill=\"none\" stroke=\"currentColor\"/>\n",
              "    <text dy=\"1.25em\" style=\"font-size: 0.8em; letter-spacing: 1px\">\n",
              "        <textPath xlink:href=\"#arrow-c88e8fb864b34eb69960809d49a8dd10-0-3\" class=\"displacy-label\" startOffset=\"50%\" side=\"left\" fill=\"currentColor\" text-anchor=\"middle\">pcomp</textPath>\n",
              "    </text>\n",
              "    <path class=\"displacy-arrowhead\" d=\"M740.0,266.5 L748.0,254.5 732.0,254.5\" fill=\"currentColor\"/>\n",
              "</g>\n",
              "\n",
              "<g class=\"displacy-arrow\">\n",
              "    <path class=\"displacy-arc\" id=\"arrow-c88e8fb864b34eb69960809d49a8dd10-0-4\" stroke-width=\"2px\" d=\"M945,264.5 C945,177.0 1090.0,177.0 1090.0,264.5\" fill=\"none\" stroke=\"currentColor\"/>\n",
              "    <text dy=\"1.25em\" style=\"font-size: 0.8em; letter-spacing: 1px\">\n",
              "        <textPath xlink:href=\"#arrow-c88e8fb864b34eb69960809d49a8dd10-0-4\" class=\"displacy-label\" startOffset=\"50%\" side=\"left\" fill=\"currentColor\" text-anchor=\"middle\">compound</textPath>\n",
              "    </text>\n",
              "    <path class=\"displacy-arrowhead\" d=\"M945,266.5 L937,254.5 953,254.5\" fill=\"currentColor\"/>\n",
              "</g>\n",
              "\n",
              "<g class=\"displacy-arrow\">\n",
              "    <path class=\"displacy-arc\" id=\"arrow-c88e8fb864b34eb69960809d49a8dd10-0-5\" stroke-width=\"2px\" d=\"M770,264.5 C770,89.5 1095.0,89.5 1095.0,264.5\" fill=\"none\" stroke=\"currentColor\"/>\n",
              "    <text dy=\"1.25em\" style=\"font-size: 0.8em; letter-spacing: 1px\">\n",
              "        <textPath xlink:href=\"#arrow-c88e8fb864b34eb69960809d49a8dd10-0-5\" class=\"displacy-label\" startOffset=\"50%\" side=\"left\" fill=\"currentColor\" text-anchor=\"middle\">dobj</textPath>\n",
              "    </text>\n",
              "    <path class=\"displacy-arrowhead\" d=\"M1095.0,266.5 L1103.0,254.5 1087.0,254.5\" fill=\"currentColor\"/>\n",
              "</g>\n",
              "\n",
              "<g class=\"displacy-arrow\">\n",
              "    <path class=\"displacy-arc\" id=\"arrow-c88e8fb864b34eb69960809d49a8dd10-0-6\" stroke-width=\"2px\" d=\"M770,264.5 C770,2.0 1275.0,2.0 1275.0,264.5\" fill=\"none\" stroke=\"currentColor\"/>\n",
              "    <text dy=\"1.25em\" style=\"font-size: 0.8em; letter-spacing: 1px\">\n",
              "        <textPath xlink:href=\"#arrow-c88e8fb864b34eb69960809d49a8dd10-0-6\" class=\"displacy-label\" startOffset=\"50%\" side=\"left\" fill=\"currentColor\" text-anchor=\"middle\">prep</textPath>\n",
              "    </text>\n",
              "    <path class=\"displacy-arrowhead\" d=\"M1275.0,266.5 L1283.0,254.5 1267.0,254.5\" fill=\"currentColor\"/>\n",
              "</g>\n",
              "\n",
              "<g class=\"displacy-arrow\">\n",
              "    <path class=\"displacy-arc\" id=\"arrow-c88e8fb864b34eb69960809d49a8dd10-0-7\" stroke-width=\"2px\" d=\"M1470,264.5 C1470,177.0 1615.0,177.0 1615.0,264.5\" fill=\"none\" stroke=\"currentColor\"/>\n",
              "    <text dy=\"1.25em\" style=\"font-size: 0.8em; letter-spacing: 1px\">\n",
              "        <textPath xlink:href=\"#arrow-c88e8fb864b34eb69960809d49a8dd10-0-7\" class=\"displacy-label\" startOffset=\"50%\" side=\"left\" fill=\"currentColor\" text-anchor=\"middle\">nmod</textPath>\n",
              "    </text>\n",
              "    <path class=\"displacy-arrowhead\" d=\"M1470,266.5 L1462,254.5 1478,254.5\" fill=\"currentColor\"/>\n",
              "</g>\n",
              "\n",
              "<g class=\"displacy-arrow\">\n",
              "    <path class=\"displacy-arc\" id=\"arrow-c88e8fb864b34eb69960809d49a8dd10-0-8\" stroke-width=\"2px\" d=\"M1295,264.5 C1295,89.5 1620.0,89.5 1620.0,264.5\" fill=\"none\" stroke=\"currentColor\"/>\n",
              "    <text dy=\"1.25em\" style=\"font-size: 0.8em; letter-spacing: 1px\">\n",
              "        <textPath xlink:href=\"#arrow-c88e8fb864b34eb69960809d49a8dd10-0-8\" class=\"displacy-label\" startOffset=\"50%\" side=\"left\" fill=\"currentColor\" text-anchor=\"middle\">pobj</textPath>\n",
              "    </text>\n",
              "    <path class=\"displacy-arrowhead\" d=\"M1620.0,266.5 L1628.0,254.5 1612.0,254.5\" fill=\"currentColor\"/>\n",
              "</g>\n",
              "</svg></span>"
            ]
          },
          "metadata": {}
        }
      ]
    },
    {
      "cell_type": "markdown",
      "source": [
        "# Named Entity Recognition"
      ],
      "metadata": {
        "id": "lcEPwblw-pfe"
      }
    },
    {
      "cell_type": "code",
      "source": [
        "s3 = \"Apple is looking at buying U.K. startup for $1billion\"\n",
        "\n",
        "import spacy \n",
        "nlp = spacy.load('en_core_web_sm')\n",
        "doc = nlp(s3)\n",
        "doc.ents"
      ],
      "metadata": {
        "colab": {
          "base_uri": "https://localhost:8080/"
        },
        "id": "aBvyOusF-lVP",
        "outputId": "bc36680b-8f0d-4eff-b95e-cdc0ee56a487"
      },
      "execution_count": 54,
      "outputs": [
        {
          "output_type": "execute_result",
          "data": {
            "text/plain": [
              "(Apple, U.K., 1billion)"
            ]
          },
          "metadata": {},
          "execution_count": 54
        }
      ]
    },
    {
      "cell_type": "code",
      "source": [
        "for ent in doc.ents:\n",
        "  print(ent.text, ent.label_, ' --> ', spacy.explain(ent.label_))"
      ],
      "metadata": {
        "colab": {
          "base_uri": "https://localhost:8080/"
        },
        "id": "L1K_dwjm_Xbl",
        "outputId": "1065b259-f13a-4ea3-b249-b515007b161d"
      },
      "execution_count": 59,
      "outputs": [
        {
          "output_type": "stream",
          "name": "stdout",
          "text": [
            "Apple ORG  -->  Companies, agencies, institutions, etc.\n",
            "U.K. GPE  -->  Countries, cities, states\n",
            "1billion MONEY  -->  Monetary values, including unit\n"
          ]
        }
      ]
    },
    {
      "cell_type": "code",
      "source": [
        "spacy.displacy.render(docs=doc, style= 'ent', jupyter = True) "
      ],
      "metadata": {
        "colab": {
          "base_uri": "https://localhost:8080/",
          "height": 52
        },
        "id": "kPua6We4CU-n",
        "outputId": "26c30aa5-1a89-4e5b-a88e-2f1753762024"
      },
      "execution_count": 60,
      "outputs": [
        {
          "output_type": "display_data",
          "data": {
            "text/plain": [
              "<IPython.core.display.HTML object>"
            ],
            "text/html": [
              "<span class=\"tex2jax_ignore\"><div class=\"entities\" style=\"line-height: 2.5; direction: ltr\">\n",
              "<mark class=\"entity\" style=\"background: #7aecec; padding: 0.45em 0.6em; margin: 0 0.25em; line-height: 1; border-radius: 0.35em;\">\n",
              "    Apple\n",
              "    <span style=\"font-size: 0.8em; font-weight: bold; line-height: 1; border-radius: 0.35em; text-transform: uppercase; vertical-align: middle; margin-left: 0.5rem\">ORG</span>\n",
              "</mark>\n",
              " is looking at buying \n",
              "<mark class=\"entity\" style=\"background: #feca74; padding: 0.45em 0.6em; margin: 0 0.25em; line-height: 1; border-radius: 0.35em;\">\n",
              "    U.K.\n",
              "    <span style=\"font-size: 0.8em; font-weight: bold; line-height: 1; border-radius: 0.35em; text-transform: uppercase; vertical-align: middle; margin-left: 0.5rem\">GPE</span>\n",
              "</mark>\n",
              " startup for $\n",
              "<mark class=\"entity\" style=\"background: #e4e7d2; padding: 0.45em 0.6em; margin: 0 0.25em; line-height: 1; border-radius: 0.35em;\">\n",
              "    1billion\n",
              "    <span style=\"font-size: 0.8em; font-weight: bold; line-height: 1; border-radius: 0.35em; text-transform: uppercase; vertical-align: middle; margin-left: 0.5rem\">MONEY</span>\n",
              "</mark>\n",
              "</div></span>"
            ]
          },
          "metadata": {}
        }
      ]
    },
    {
      "cell_type": "code",
      "source": [
        "spacy.displacy.render(docs=doc, style= 'ent',options = {'ents': 'ORG'},jupyter = True) "
      ],
      "metadata": {
        "colab": {
          "base_uri": "https://localhost:8080/",
          "height": 52
        },
        "id": "Swpds2zTCjZh",
        "outputId": "3c3aeb0c-91de-48a9-f942-e6df177078d3"
      },
      "execution_count": 64,
      "outputs": [
        {
          "output_type": "display_data",
          "data": {
            "text/plain": [
              "<IPython.core.display.HTML object>"
            ],
            "text/html": [
              "<span class=\"tex2jax_ignore\"><div class=\"entities\" style=\"line-height: 2.5; direction: ltr\">\n",
              "<mark class=\"entity\" style=\"background: #7aecec; padding: 0.45em 0.6em; margin: 0 0.25em; line-height: 1; border-radius: 0.35em;\">\n",
              "    Apple\n",
              "    <span style=\"font-size: 0.8em; font-weight: bold; line-height: 1; border-radius: 0.35em; text-transform: uppercase; vertical-align: middle; margin-left: 0.5rem\">ORG</span>\n",
              "</mark>\n",
              " is looking at buying U.K. startup for $1billion</div></span>"
            ]
          },
          "metadata": {}
        }
      ]
    },
    {
      "cell_type": "markdown",
      "source": [
        "# Sentence Segmentation"
      ],
      "metadata": {
        "id": "c3ej0iLDDPNT"
      }
    },
    {
      "cell_type": "code",
      "source": [
        "s4 = 'Sunflower Land is a Play-and-Own crypto game where everything you collect is identifiable on the Polygon Blockchain. You can farm, chop, mine, craft and more as; You build your farming empire.'\n",
        "doc = nlp(s4)"
      ],
      "metadata": {
        "colab": {
          "base_uri": "https://localhost:8080/"
        },
        "id": "ycPyGTnPDVE_",
        "outputId": "80bddc71-b8ca-4e5e-b8ea-d56ca89c8580"
      },
      "execution_count": 75,
      "outputs": [
        {
          "output_type": "stream",
          "name": "stdout",
          "text": [
            "34\n"
          ]
        }
      ]
    },
    {
      "cell_type": "code",
      "source": [
        "for sent in doc.sents:\n",
        "  print(sent.text)"
      ],
      "metadata": {
        "colab": {
          "base_uri": "https://localhost:8080/"
        },
        "id": "WgdqWin1Doin",
        "outputId": "015de036-14c2-4f2f-ce90-45adf3f47f6f"
      },
      "execution_count": 68,
      "outputs": [
        {
          "output_type": "stream",
          "name": "stdout",
          "text": [
            "Sunflower Land is a Play-and-Own crypto game where everything you collect is identifiable on the Polygon Blockchain.\n",
            "You can farm, chop, mine, craft and more as; you build your farming empire.\n"
          ]
        }
      ]
    },
    {
      "cell_type": "code",
      "source": [
        "def set_custom_boundaries(doc):\n",
        "    for token in doc[:-1]:\n",
        "      if token.text ==';':\n",
        "       print(token.i)\n",
        "       doc[token.i+1].is_sent_start = True\n",
        "    return doc"
      ],
      "metadata": {
        "id": "CB-JfY7HEMTc"
      },
      "execution_count": 69,
      "outputs": []
    },
    {
      "cell_type": "code",
      "source": [
        "nlp.pipe_names"
      ],
      "metadata": {
        "colab": {
          "base_uri": "https://localhost:8080/"
        },
        "id": "ElwMnrBfEaUk",
        "outputId": "79fee494-820a-4bb2-8d03-717274de8b22"
      },
      "execution_count": 71,
      "outputs": [
        {
          "output_type": "execute_result",
          "data": {
            "text/plain": [
              "['tagger', 'parser', 'ner']"
            ]
          },
          "metadata": {},
          "execution_count": 71
        }
      ]
    },
    {
      "cell_type": "code",
      "source": [
        "nlp.add_pipe(set_custom_boundaries, before= 'parser')"
      ],
      "metadata": {
        "id": "fD64Vi3KE2TP"
      },
      "execution_count": 72,
      "outputs": []
    },
    {
      "cell_type": "code",
      "source": [
        "nlp.pipe_names"
      ],
      "metadata": {
        "colab": {
          "base_uri": "https://localhost:8080/"
        },
        "id": "WmysrjPhE2Z_",
        "outputId": "4078f0ef-f214-4ec6-c7ad-05e5f6fc7ecc"
      },
      "execution_count": 73,
      "outputs": [
        {
          "output_type": "execute_result",
          "data": {
            "text/plain": [
              "['tagger', 'set_custom_boundaries', 'parser', 'ner']"
            ]
          },
          "metadata": {},
          "execution_count": 73
        }
      ]
    },
    {
      "cell_type": "code",
      "source": [
        "for sent in doc.sents:\n",
        "  print(sent.text)"
      ],
      "metadata": {
        "colab": {
          "base_uri": "https://localhost:8080/"
        },
        "id": "FC_MVxSZFIZ3",
        "outputId": "83f7d9f8-d1e7-43d2-c9ae-f5a7a2a33bec"
      },
      "execution_count": 76,
      "outputs": [
        {
          "output_type": "stream",
          "name": "stdout",
          "text": [
            "Sunflower Land is a Play-and-Own crypto game where everything you collect is identifiable on the Polygon Blockchain.\n",
            "You can farm, chop, mine, craft and more as;\n",
            "You build your farming empire.\n"
          ]
        }
      ]
    }
  ]
}